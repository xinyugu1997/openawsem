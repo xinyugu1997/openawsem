{
 "cells": [
  {
   "cell_type": "code",
   "execution_count": 1,
   "metadata": {
    "collapsed": true
   },
   "outputs": [],
   "source": [
    "import os\n",
    "import sys\n",
    "import random\n",
    "import time\n",
    "from random import seed, randint\n",
    "import argparse\n",
    "import platform\n",
    "from datetime import datetime\n",
    "import imp\n",
    "import numpy as np\n",
    "import fileinput\n",
    "from itertools import product\n",
    "import pandas as pd\n",
    "from scipy.interpolate import griddata\n",
    "from scipy.interpolate import interp2d\n",
    "import seaborn as sns\n",
    "from os import listdir\n",
    "\n",
    "import matplotlib.pyplot as plt\n",
    "import seaborn as sns\n",
    "from scipy.interpolate import griddata\n",
    "import matplotlib as mpl\n",
    "sys.path.insert(0,'..')\n",
    "# from notebookFunctions import *\n",
    "# from .. import notebookFunctions\n",
    "\n",
    "%matplotlib inline\n",
    "plt.rcParams['figure.figsize'] = (10,6.180)    #golden ratio\n",
    "# %matplotlib notebook\n",
    "%load_ext autoreload\n",
    "%autoreload 2"
   ]
  },
  {
   "cell_type": "code",
   "execution_count": 2,
   "metadata": {
    "collapsed": true
   },
   "outputs": [],
   "source": [
    "import sys\n",
    "sys.path.insert(0, '/Users/weilu/openmmawsem/')\n",
    "\n",
    "from openmmawsem import *"
   ]
  },
  {
   "cell_type": "code",
   "execution_count": 3,
   "metadata": {
    "collapsed": true
   },
   "outputs": [],
   "source": [
    "class ForceReporter(object):\n",
    "    def __init__(self, file, reportInterval):\n",
    "        self._out = open(file, 'w')\n",
    "        self._reportInterval = reportInterval\n",
    "\n",
    "    def __del__(self):\n",
    "        self._out.close()\n",
    "\n",
    "    def describeNextReport(self, simulation):\n",
    "        steps = self._reportInterval - simulation.currentStep%self._reportInterval\n",
    "        return (steps, False, False, True, False)\n",
    "\n",
    "    def report(self, simulation, state):\n",
    "        forces = state.getForces().value_in_unit(kilocalories/mole/nanometer)\n",
    "        self._out.write(str(state.getTime())+\"\\n\")\n",
    "        #self._out.write(str(dir(state)))\n",
    "        for f in forces:\n",
    "            self._out.write('%g %g %g\\n' % (f[0], f[1], f[2]))"
   ]
  },
  {
   "cell_type": "code",
   "execution_count": 4,
   "metadata": {},
   "outputs": [
    {
     "name": "stdout",
     "output_type": "stream",
     "text": [
      "apply_chi_term\n",
      "Chi 22.4970494811895 kcal/mol\n"
     ]
    }
   ],
   "source": [
    "# build OpenMMAWSEM simulation object\n",
    "# check each energy term individually\n",
    "pdb_id = '2xov'\n",
    "chain_id = 'A'\n",
    "# prepare pdb\n",
    "# res_names = prepare_pdb(\"%s.pdb\" % pdb_id, [chain_id])\n",
    "\n",
    "def openawsemsystem(pdb='2xov.pdb',chain='A',term=-1):\n",
    "    resnames=prepare_pdb(pdb,chain)\n",
    "    output_pdb_filename = pdb.split('.')[0] + '-openmmawsem.pdb'\n",
    "    oa = OpenMMAWSEMSystem(output_pdb_filename,resnames, xml_filename=\"../awsem.xml\")\n",
    "\n",
    "    # setup Hamiltonian\n",
    "    if term==1:\n",
    "        print('apply_con_term')\n",
    "        term_name='Con'\n",
    "        apply_con_term(oa)\n",
    "    elif term==2:\n",
    "        print('apply_chain_term')\n",
    "        term_name='Chain'\n",
    "        apply_chain_term(oa)\n",
    "    elif term==3:\n",
    "        print('apply_chi_term')\n",
    "        term_name='Chi'\n",
    "        apply_chi_term(oa)\n",
    "    elif term==4:\n",
    "        print('apply_excl_term')\n",
    "        term_name='Excluded'\n",
    "        apply_excl_term(oa)\n",
    "    elif term==5:\n",
    "        print('apply_rama_term')\n",
    "        term_name='Rama'\n",
    "        apply_rama_term(oa)\n",
    "    elif term==6:\n",
    "        print('apply_direct_term')\n",
    "        term_name='Direct'\n",
    "        apply_direct_term(oa)\n",
    "    elif term==7:\n",
    "        print('apply_mediated_term')\n",
    "        term_name='Mediated'\n",
    "        apply_mediated_term(oa)\n",
    "    elif term==8:\n",
    "        print('apply_contact_term')\n",
    "        term_name='Contact'\n",
    "        apply_contact_term(oa)\n",
    "    elif term==9:\n",
    "        print('apply_beta_term')\n",
    "        term_name='Beta'\n",
    "        apply_beta_term(oa)\n",
    "    elif term==10:\n",
    "        print('apply_pap_term')\n",
    "        term_name='P_AP'\n",
    "        apply_pap_term(oa)\n",
    "    elif term==11:\n",
    "        print('apply_dsb_term')\n",
    "        term_name='DSB'\n",
    "        apply_dsb_term(oa)\n",
    "    elif term==12:\n",
    "        print('apply_helix_term')\n",
    "        term_name='HELIX'\n",
    "        apply_helix_term(oa)\n",
    "    elif term==13:\n",
    "        print('apply_associative_memory_term')\n",
    "        term_name='Frag_Mem'\n",
    "        apply_associative_memory_term(oa)\n",
    "    return term_name,oa\n",
    "import time\n",
    "\n",
    "OA_energy={}\n",
    "\n",
    "for i in range(3,4):\n",
    "    if i==12:\n",
    "        continue\n",
    "        #pass\n",
    "    term_name,oa=openawsemsystem(term=i)\n",
    "    # setup simulation parameters\n",
    "    reporter_frequency = 1000\n",
    "    num_steps = 1000\n",
    "    step_size = 2e-10*femtoseconds\n",
    "    temperature = 100*kelvin\n",
    "#     platform = Platform.getPlatformByName('Reference') # OpenCL, CUDA, CPU, or Reference\n",
    "\n",
    "    # start simulation\n",
    "    #integrator = VerletIntegrator(step_size)\n",
    "    integrator = LangevinIntegrator(temperature, 1/picosecond, step_size)\n",
    "    #simulation = Simulation(oa.pdb.topology, oa.system, integrator, platform)\n",
    "    simulation = Simulation(oa.pdb.topology, oa.system, integrator)\n",
    "    simulation.context.setPositions(oa.pdb.positions)\n",
    "    #simulation.context.setVelocitiesToTemperature(temperature, 1)\n",
    "    #simulation.minimizeEnergy(tolerance=Quantity(value=.0001, unit=kilojoule/mole))\n",
    "    simulation.reporters.append(PDBReporter('output.pdb', reporter_frequency))\n",
    "    #simulation.reporters.append(ForceReporter('forces.txt', 100))\n",
    "    simulation.reporters.append(StateDataReporter(stdout, reporter_frequency, step=True,\n",
    "            potentialEnergy=True, temperature=True))\n",
    "    tt=time.time()\n",
    "    simulation.step(1)\n",
    "    state = simulation.context.getState(getEnergy=True)\n",
    "#     print((time.time()-tt)*1000,'ms')\n",
    "#     print(term_name, state.getPotentialEnergy())\n",
    "    print(term_name, state.getPotentialEnergy().value_in_unit(kilocalories/mole), \"kcal/mol\")\n",
    "    OA_energy[term_name]=state.getPotentialEnergy()._value\n",
    "    #print (i,time.time()-tt)"
   ]
  },
  {
   "cell_type": "code",
   "execution_count": 5,
   "metadata": {},
   "outputs": [
    {
     "data": {
      "text/html": [
       "<div>\n",
       "<style>\n",
       "    .dataframe thead tr:only-child th {\n",
       "        text-align: right;\n",
       "    }\n",
       "\n",
       "    .dataframe thead th {\n",
       "        text-align: left;\n",
       "    }\n",
       "\n",
       "    .dataframe tbody tr th {\n",
       "        vertical-align: top;\n",
       "    }\n",
       "</style>\n",
       "<table border=\"1\" class=\"dataframe\">\n",
       "  <thead>\n",
       "    <tr style=\"text-align: right;\">\n",
       "      <th></th>\n",
       "      <th>Steps</th>\n",
       "      <th>Chain</th>\n",
       "      <th>Chi</th>\n",
       "      <th>Rama</th>\n",
       "      <th>Water</th>\n",
       "      <th>Helix</th>\n",
       "      <th>AMH-Go</th>\n",
       "      <th>Frag_Mem</th>\n",
       "      <th>Membrane</th>\n",
       "      <th>VTotal</th>\n",
       "      <th>Ebond</th>\n",
       "      <th>Epair</th>\n",
       "      <th>Rg</th>\n",
       "    </tr>\n",
       "  </thead>\n",
       "  <tbody>\n",
       "    <tr>\n",
       "      <th>0</th>\n",
       "      <td>0</td>\n",
       "      <td>104.187332</td>\n",
       "      <td>22.560808</td>\n",
       "      <td>-684.542272</td>\n",
       "      <td>0</td>\n",
       "      <td>0</td>\n",
       "      <td>-579.196818</td>\n",
       "      <td>0</td>\n",
       "      <td>-33.468043</td>\n",
       "      <td>-1170.458994</td>\n",
       "      <td>204.796601</td>\n",
       "      <td>241.126954</td>\n",
       "      <td>12.613729</td>\n",
       "    </tr>\n",
       "    <tr>\n",
       "      <th>1</th>\n",
       "      <td>4000</td>\n",
       "      <td>119.441742</td>\n",
       "      <td>31.616431</td>\n",
       "      <td>-767.291508</td>\n",
       "      <td>0</td>\n",
       "      <td>0</td>\n",
       "      <td>-499.919497</td>\n",
       "      <td>0</td>\n",
       "      <td>-35.712385</td>\n",
       "      <td>-1151.865217</td>\n",
       "      <td>199.662062</td>\n",
       "      <td>12.762483</td>\n",
       "      <td>10.051979</td>\n",
       "    </tr>\n",
       "    <tr>\n",
       "      <th>2</th>\n",
       "      <td>8000</td>\n",
       "      <td>106.335053</td>\n",
       "      <td>35.444899</td>\n",
       "      <td>-767.858180</td>\n",
       "      <td>0</td>\n",
       "      <td>0</td>\n",
       "      <td>-497.425184</td>\n",
       "      <td>0</td>\n",
       "      <td>-37.370172</td>\n",
       "      <td>-1160.873583</td>\n",
       "      <td>193.744118</td>\n",
       "      <td>12.744725</td>\n",
       "      <td>8.887938</td>\n",
       "    </tr>\n",
       "    <tr>\n",
       "      <th>3</th>\n",
       "      <td>12000</td>\n",
       "      <td>129.448049</td>\n",
       "      <td>30.476499</td>\n",
       "      <td>-752.245557</td>\n",
       "      <td>0</td>\n",
       "      <td>0</td>\n",
       "      <td>-506.456595</td>\n",
       "      <td>0</td>\n",
       "      <td>-37.365454</td>\n",
       "      <td>-1136.143059</td>\n",
       "      <td>196.853812</td>\n",
       "      <td>13.510498</td>\n",
       "      <td>11.008106</td>\n",
       "    </tr>\n",
       "    <tr>\n",
       "      <th>4</th>\n",
       "      <td>16000</td>\n",
       "      <td>132.939655</td>\n",
       "      <td>37.302584</td>\n",
       "      <td>-732.136528</td>\n",
       "      <td>0</td>\n",
       "      <td>0</td>\n",
       "      <td>-498.904816</td>\n",
       "      <td>0</td>\n",
       "      <td>-37.092766</td>\n",
       "      <td>-1097.891871</td>\n",
       "      <td>204.076576</td>\n",
       "      <td>20.527288</td>\n",
       "      <td>9.731892</td>\n",
       "    </tr>\n",
       "  </tbody>\n",
       "</table>\n",
       "</div>"
      ],
      "text/plain": [
       "   Steps       Chain             Chi               Rama              Water  \\\n",
       "0      0  104.187332       22.560808        -684.542272                  0   \n",
       "1   4000  119.441742       31.616431        -767.291508                  0   \n",
       "2   8000  106.335053       35.444899        -767.858180                  0   \n",
       "3  12000  129.448049       30.476499        -752.245557                  0   \n",
       "4  16000  132.939655       37.302584        -732.136528                  0   \n",
       "\n",
       "             Helix             AMH-Go         Frag_Mem            Membrane  \\\n",
       "0                0        -579.196818                0          -33.468043   \n",
       "1                0        -499.919497                0          -35.712385   \n",
       "2                0        -497.425184                0          -37.370172   \n",
       "3                0        -506.456595                0          -37.365454   \n",
       "4                0        -498.904816                0          -37.092766   \n",
       "\n",
       "             VTotal        Ebond       Epair         Rg  \n",
       "0      -1170.458994   204.796601  241.126954  12.613729  \n",
       "1      -1151.865217   199.662062   12.762483  10.051979  \n",
       "2      -1160.873583   193.744118   12.744725   8.887938  \n",
       "3      -1136.143059   196.853812   13.510498  11.008106  \n",
       "4      -1097.891871   204.076576   20.527288   9.731892  "
      ]
     },
     "execution_count": 5,
     "metadata": {},
     "output_type": "execute_result"
    }
   ],
   "source": [
    "pd.read_csv(\"energy.dat\").head()"
   ]
  },
  {
   "cell_type": "code",
   "execution_count": 6,
   "metadata": {},
   "outputs": [],
   "source": [
    "data = pd.read_table(\"2xov-openmmawsem.pdb\", sep=\"\\s+\", header=None, names=[\"_\",\"i\",\"type\",\"res\",\"chain\",\"res_id\", \"x\",\"y\",\"z\",\"_\",\"_\",\"_\"])"
   ]
  },
  {
   "cell_type": "code",
   "execution_count": 7,
   "metadata": {},
   "outputs": [],
   "source": [
    "data = data.dropna().reset_index()\n",
    "data[\"res_id\"] = data[\"res_id\"].apply(lambda x: int(x))"
   ]
  },
  {
   "cell_type": "code",
   "execution_count": 8,
   "metadata": {},
   "outputs": [],
   "source": [
    "chosen = data.query(\"res != 'IGL' and res_id != 1 and res_id != 181\")"
   ]
  },
  {
   "cell_type": "code",
   "execution_count": 9,
   "metadata": {
    "collapsed": true
   },
   "outputs": [],
   "source": [
    "ca_all = chosen.query(\"type == 'CA'\")[[\"x\",\"y\",\"z\"]]"
   ]
  },
  {
   "cell_type": "code",
   "execution_count": 10,
   "metadata": {},
   "outputs": [
    {
     "data": {
      "text/plain": [
       "(159, 3)"
      ]
     },
     "execution_count": 10,
     "metadata": {},
     "output_type": "execute_result"
    }
   ],
   "source": [
    "ca_all.shape"
   ]
  },
  {
   "cell_type": "code",
   "execution_count": 11,
   "metadata": {
    "collapsed": true
   },
   "outputs": [],
   "source": [
    "def compute_chi(data):\n",
    "    ca_all = data.query(\"type == 'CA'\")[[\"x\",\"y\",\"z\"]].values\n",
    "    cb_all = data.query(\"type == 'CB'\")[[\"x\",\"y\",\"z\"]].values\n",
    "    c_all = data.query(\"type == 'C'\")[[\"x\",\"y\",\"z\"]].values\n",
    "    n_all = data.query(\"type == 'N'\")[[\"x\",\"y\",\"z\"]].values\n",
    "    energy = 0 \n",
    "    for i in range(len(n_all)):\n",
    "        ca = ca_all[i]\n",
    "        cb = cb_all[i]\n",
    "        c = c_all[i]\n",
    "        n = n_all[i]\n",
    "        chi0 = -0.71\n",
    "        k_chi = 60*4.184\n",
    "        r_ca_cb = cb-ca\n",
    "        r_c_ca = ca-c\n",
    "        r_ca_n = n-ca\n",
    "        norm_r_ca_cb = np.sum(r_ca_cb**2)**0.5\n",
    "        norm_r_c_ca = np.sum(r_c_ca**2)**0.5\n",
    "        norm_r_ca_n = np.sum(r_ca_n**2)**0.5\n",
    "        a = np.cross(-r_c_ca,r_ca_n)/norm_r_c_ca/norm_r_ca_n\n",
    "        chi = np.dot(a,r_ca_cb)/norm_r_ca_cb\n",
    "        dchi = chi - chi0\n",
    "        energy += k_chi*dchi*dchi\n",
    "    return energy"
   ]
  },
  {
   "cell_type": "code",
   "execution_count": 12,
   "metadata": {
    "scrolled": true
   },
   "outputs": [
    {
     "data": {
      "text/plain": [
       "22.490468654328367"
      ]
     },
     "execution_count": 12,
     "metadata": {},
     "output_type": "execute_result"
    }
   ],
   "source": [
    "compute_chi(chosen)/4.184"
   ]
  },
  {
   "cell_type": "code",
   "execution_count": 13,
   "metadata": {
    "collapsed": true
   },
   "outputs": [],
   "source": [
    "ca = data.query(\"type == 'CA'\")[[\"x\",\"y\",\"z\"]]\n",
    "cb = data.query(\"type == 'CB'\")[[\"x\",\"y\",\"z\"]]\n",
    "c = data.query(\"type == 'C'\")[[\"x\",\"y\",\"z\"]]\n",
    "n = data.query(\"type == 'N'\")[[\"x\",\"y\",\"z\"]]\n",
    "ca = ca.values[1]\n",
    "cb = cb.values[1]\n",
    "c = c.values[1]\n",
    "n = n.values[0]"
   ]
  },
  {
   "cell_type": "code",
   "execution_count": 14,
   "metadata": {
    "collapsed": true
   },
   "outputs": [],
   "source": [
    "chi0 = -0.71\n",
    "k_chi = 60*4.184\n",
    "r_ca_cb = cb-ca\n",
    "r_c_ca = ca-c\n",
    "r_ca_n = n-ca\n",
    "norm_r_ca_cb = np.sum(r_ca_cb**2)**0.5\n",
    "norm_r_c_ca = np.sum(r_c_ca**2)**0.5\n",
    "norm_r_ca_n = np.sum(r_ca_n**2)**0.5\n",
    "a = np.cross(r_c_ca,r_ca_n)/norm_r_c_ca/norm_r_ca_n\n",
    "chi = np.dot(a,r_ca_cb)/norm_r_ca_cb\n",
    "dchi = chi - chi0"
   ]
  },
  {
   "cell_type": "code",
   "execution_count": 15,
   "metadata": {
    "collapsed": true
   },
   "outputs": [],
   "source": [
    "chi0 = -0.71\n",
    "k_chi = 60*4.184\n",
    "r_ca_cb = ca-cb\n",
    "r_c_ca = c-ca\n",
    "r_ca_n = ca-n\n",
    "norm_r_ca_cb = np.sum(r_ca_cb**2)**0.5\n",
    "norm_r_c_ca = np.sum(r_c_ca**2)**0.5\n",
    "norm_r_ca_n = np.sum(r_ca_n**2)**0.5\n",
    "a = np.cross(r_c_ca,r_ca_n)/norm_r_c_ca/norm_r_ca_n\n",
    "chi = np.dot(a,r_ca_cb)/norm_r_ca_cb\n",
    "dchi = chi - chi0"
   ]
  },
  {
   "cell_type": "code",
   "execution_count": 16,
   "metadata": {
    "scrolled": true
   },
   "outputs": [
    {
     "data": {
      "text/plain": [
       "-0.746560419549821"
      ]
     },
     "execution_count": 16,
     "metadata": {},
     "output_type": "execute_result"
    }
   ],
   "source": [
    "chi"
   ]
  },
  {
   "cell_type": "code",
   "execution_count": 17,
   "metadata": {
    "collapsed": true
   },
   "outputs": [],
   "source": [
    "def compute_chi(ca,cb,c,n):\n",
    "    chi0 = -0.71\n",
    "    k_chi = 60*4.184\n",
    "    r_ca_cb = cb-ca\n",
    "    r_c_ca = ca-c\n",
    "    r_ca_n = n-ca\n",
    "    norm_r_ca_cb = np.sum(r_ca_cb**2)**0.5\n",
    "    norm_r_c_ca = np.sum(r_c_ca**2)**0.5\n",
    "    norm_r_ca_n = np.sum(r_ca_n**2)**0.5\n",
    "    a = np.cross(-r_c_ca,r_ca_n)/norm_r_c_ca/norm_r_ca_n\n",
    "    chi = np.dot(a,r_ca_cb)/norm_r_ca_cb\n",
    "    return k_chi*dchi*dchi"
   ]
  },
  {
   "cell_type": "code",
   "execution_count": 18,
   "metadata": {},
   "outputs": [
    {
     "data": {
      "text/plain": [
       "0.3355562002634993"
      ]
     },
     "execution_count": 18,
     "metadata": {},
     "output_type": "execute_result"
    }
   ],
   "source": [
    "compute_chi(ca,cb,c,n)"
   ]
  }
 ],
 "metadata": {
  "kernelspec": {
   "display_name": "Python 3",
   "language": "python",
   "name": "python3"
  },
  "language_info": {
   "codemirror_mode": {
    "name": "ipython",
    "version": 3
   },
   "file_extension": ".py",
   "mimetype": "text/x-python",
   "name": "python",
   "nbconvert_exporter": "python",
   "pygments_lexer": "ipython3",
   "version": "3.6.3"
  }
 },
 "nbformat": 4,
 "nbformat_minor": 2
}
