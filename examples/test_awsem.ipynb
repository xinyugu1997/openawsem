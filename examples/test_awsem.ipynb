{
 "cells": [
  {
   "cell_type": "markdown",
   "metadata": {
    "run_control": {
     "frozen": false,
     "read_only": false
    }
   },
   "source": [
    "Testing OpenMM AWSEM implementation using newly created Github repository version"
   ]
  },
  {
   "cell_type": "code",
   "execution_count": 1,
   "metadata": {},
   "outputs": [
    {
     "name": "stdout",
     "output_type": "stream",
     "text": [
      "/Users/weilu/openmmawsem/examples\r\n"
     ]
    }
   ],
   "source": [
    "!pwd"
   ]
  },
  {
   "cell_type": "code",
   "execution_count": 2,
   "metadata": {
    "ExecuteTime": {
     "end_time": "2017-07-22T13:58:19.713472",
     "start_time": "2017-07-22T13:58:19.677446"
    },
    "collapsed": true,
    "run_control": {
     "frozen": false,
     "read_only": false
    }
   },
   "outputs": [],
   "source": [
    "%run ../openmmawsem.py"
   ]
  },
  {
   "cell_type": "code",
   "execution_count": 3,
   "metadata": {
    "collapsed": true
   },
   "outputs": [],
   "source": [
    "class ForceReporter(object):\n",
    "    def __init__(self, file, reportInterval):\n",
    "        self._out = open(file, 'w')\n",
    "        self._reportInterval = reportInterval\n",
    "\n",
    "    def __del__(self):\n",
    "        self._out.close()\n",
    "\n",
    "    def describeNextReport(self, simulation):\n",
    "        steps = self._reportInterval - simulation.currentStep%self._reportInterval\n",
    "        return (steps, False, False, True, False)\n",
    "\n",
    "    def report(self, simulation, state):\n",
    "        forces = state.getForces().value_in_unit(kilojoules/mole/nanometer)\n",
    "        self._out.write(str(state.getTime())+\"\\n\")\n",
    "        #self._out.write(str(dir(state)))\n",
    "        for f in forces:\n",
    "            self._out.write('%g %g %g\\n' % (f[0], f[1], f[2]))"
   ]
  },
  {
   "cell_type": "code",
   "execution_count": 22,
   "metadata": {
    "ExecuteTime": {
     "end_time": "2017-07-22T09:14:52.573408",
     "start_time": "2017-07-22T09:14:26.788852"
    },
    "run_control": {
     "frozen": false,
     "read_only": false
    },
    "scrolled": false
   },
   "outputs": [
    {
     "name": "stderr",
     "output_type": "stream",
     "text": [
      "/Users/weilu/anaconda3/lib/python3.6/site-packages/simtk/openmm/app/internal/pdbstructure.py:536: UserWarning: WARNING: duplicate atom (ATOM     11  HN  ALA A   1      -0.508   0.077  -0.877  1.00  0.00           H  , ATOM      5  HN  ALA A   1      -0.495   0.091   0.883  1.00  0.00           H  )\n",
      "  warnings.warn(\"WARNING: duplicate atom (%s, %s)\" % (atom, old_atom._pdb_string(old_atom.serial_number, atom.alternate_location_indicator)))\n",
      "/Users/weilu/anaconda3/lib/python3.6/site-packages/Bio/PDB/PDBParser.py:289: PDBConstructionWarning: PDBConstructionException: Atom H defined twice in residue <Residue ALA het=  resseq=1 icode= > at line 14.\n",
      "Exception ignored.\n",
      "Some atoms or residues may be missing in the data structure.\n",
      "  % message, PDBConstructionWarning)\n",
      "/Users/weilu/anaconda3/lib/python3.6/site-packages/Bio/PDB/PDBParser.py:289: PDBConstructionWarning: PDBConstructionException: Atom H defined twice in residue <Residue ALA het=  resseq=1 icode= > at line 14.\n",
      "Exception ignored.\n",
      "Some atoms or residues may be missing in the data structure.\n",
      "  % message, PDBConstructionWarning)\n"
     ]
    },
    {
     "name": "stdout",
     "output_type": "stream",
     "text": [
      "apply_chain_term\n",
      "5.000114440917969 ms\n",
      "Chain 366.968994140625 kJ/mol\n"
     ]
    },
    {
     "name": "stderr",
     "output_type": "stream",
     "text": [
      "/Users/weilu/anaconda3/lib/python3.6/site-packages/simtk/openmm/app/internal/pdbstructure.py:536: UserWarning: WARNING: duplicate atom (ATOM     11  HN  ALA A   1      -0.508   0.077  -0.877  1.00  0.00           H  , ATOM      5  HN  ALA A   1      -0.495   0.091   0.883  1.00  0.00           H  )\n",
      "  warnings.warn(\"WARNING: duplicate atom (%s, %s)\" % (atom, old_atom._pdb_string(old_atom.serial_number, atom.alternate_location_indicator)))\n",
      "/Users/weilu/anaconda3/lib/python3.6/site-packages/Bio/PDB/PDBParser.py:289: PDBConstructionWarning: PDBConstructionException: Atom H defined twice in residue <Residue ALA het=  resseq=1 icode= > at line 14.\n",
      "Exception ignored.\n",
      "Some atoms or residues may be missing in the data structure.\n",
      "  % message, PDBConstructionWarning)\n",
      "/Users/weilu/anaconda3/lib/python3.6/site-packages/Bio/PDB/PDBParser.py:289: PDBConstructionWarning: PDBConstructionException: Atom H defined twice in residue <Residue ALA het=  resseq=1 icode= > at line 14.\n",
      "Exception ignored.\n",
      "Some atoms or residues may be missing in the data structure.\n",
      "  % message, PDBConstructionWarning)\n"
     ]
    },
    {
     "name": "stdout",
     "output_type": "stream",
     "text": [
      "apply_chi_term\n",
      "5.790233612060547 ms\n",
      "Chi 0.7006528973579407 kJ/mol\n"
     ]
    }
   ],
   "source": [
    "# build OpenMMAWSEM simulation object\n",
    "# check each energy term individually\n",
    "\n",
    "def openawsemsystem(pdb='pdb_samples/n-ALAv2.pdb',chain='A',term=-1):\n",
    "    resnames=prepare_pdb(pdb,chain)\n",
    "    output_pdb_filename = pdb.split('.')[0] + '-openmmawsem.pdb'\n",
    "    oa = OpenMMAWSEMSystem(output_pdb_filename,resnames, xml_filename=\"../awsem.xml\")\n",
    "\n",
    "    # setup Hamiltonian\n",
    "    if term==1:\n",
    "        print('apply_con_term')\n",
    "        term_name='Con'\n",
    "        apply_con_term(oa)\n",
    "    elif term==2:\n",
    "        print('apply_chain_term')\n",
    "        term_name='Chain'\n",
    "        apply_chain_term(oa)\n",
    "    elif term==3:\n",
    "        print('apply_chi_term')\n",
    "        term_name='Chi'\n",
    "        apply_chi_term(oa)\n",
    "    elif term==4:\n",
    "        print('apply_excl_term')\n",
    "        term_name='Excluded'\n",
    "        apply_excl_term(oa)\n",
    "    elif term==5:\n",
    "        print('apply_rama_term')\n",
    "        term_name='Rama'\n",
    "        apply_rama_term(oa)\n",
    "    elif term==6:\n",
    "        print('apply_direct_term')\n",
    "        term_name='Direct'\n",
    "        apply_direct_term(oa)\n",
    "    elif term==7:\n",
    "        print('apply_mediated_term')\n",
    "        term_name='Mediated'\n",
    "        apply_mediated_term(oa)\n",
    "    elif term==8:\n",
    "        print('apply_contact_term')\n",
    "        term_name='Contact'\n",
    "        apply_contact_term(oa)\n",
    "    elif term==9:\n",
    "        print('apply_beta_term')\n",
    "        term_name='Beta'\n",
    "        apply_beta_term(oa)\n",
    "    elif term==10:\n",
    "        print('apply_pap_term')\n",
    "        term_name='P_AP'\n",
    "        apply_pap_term(oa)\n",
    "    elif term==11:\n",
    "        print('apply_dsb_term')\n",
    "        term_name='DSB'\n",
    "        apply_dsb_term(oa)\n",
    "    elif term==12:\n",
    "        print('apply_helix_term')\n",
    "        term_name='HELIX'\n",
    "        apply_helix_term(oa)\n",
    "    elif term==13:\n",
    "        print('apply_associative_memory_term')\n",
    "        term_name='Frag_Mem'\n",
    "        apply_associative_memory_term(oa)\n",
    "    return term_name,oa\n",
    "import time\n",
    "\n",
    "OA_energy={}\n",
    "\n",
    "for i in range(2,4):\n",
    "    if i==12:\n",
    "        continue\n",
    "        #pass\n",
    "    term_name,oa=openawsemsystem(term=i)\n",
    "    # setup simulation parameters\n",
    "    reporter_frequency = 1000\n",
    "    num_steps = 1000\n",
    "    step_size = 2e-10*femtoseconds\n",
    "    temperature = 100*kelvin\n",
    "    #platform = Platform.getPlatformByName('Reference') # OpenCL, CUDA, CPU, or Reference\n",
    "\n",
    "    # start simulation\n",
    "    #integrator = VerletIntegrator(step_size)\n",
    "    integrator = LangevinIntegrator(temperature, 1/picosecond, step_size)\n",
    "    #simulation = Simulation(oa.pdb.topology, oa.system, integrator, platform)\n",
    "    simulation = Simulation(oa.pdb.topology, oa.system, integrator)\n",
    "    simulation.context.setPositions(oa.pdb.positions)\n",
    "    #simulation.context.setVelocitiesToTemperature(temperature, 1)\n",
    "    #simulation.minimizeEnergy(tolerance=Quantity(value=.0001, unit=kilojoule/mole))\n",
    "    simulation.reporters.append(PDBReporter('output.pdb', reporter_frequency))\n",
    "    #simulation.reporters.append(ForceReporter('forces.txt', 100))\n",
    "    simulation.reporters.append(StateDataReporter(stdout, reporter_frequency, step=True,\n",
    "            potentialEnergy=True, temperature=True))\n",
    "    tt=time.time()\n",
    "    simulation.step(1)\n",
    "    state = simulation.context.getState(getEnergy=True)\n",
    "    print((time.time()-tt)*1000,'ms')\n",
    "    print(term_name, state.getPotentialEnergy())\n",
    "    OA_energy[term_name]=state.getPotentialEnergy()._value\n",
    "    #print (i,time.time()-tt)"
   ]
  },
  {
   "cell_type": "code",
   "execution_count": 6,
   "metadata": {},
   "outputs": [
    {
     "data": {
      "text/plain": [
       "0.9609234573096278"
      ]
     },
     "execution_count": 6,
     "metadata": {},
     "output_type": "execute_result"
    }
   ],
   "source": [
    "#Comparison of chain energy obtained with original AWSEM, with the one with open AWSEM\n",
    "(84.279587*4.184)/366.9655364593491 #84.27 Original, 4.184 Kcal to KJ, 366.95 openawsem"
   ]
  },
  {
   "cell_type": "code",
   "execution_count": 23,
   "metadata": {},
   "outputs": [
    {
     "data": {
      "text/plain": [
       "0.16746006151002404"
      ]
     },
     "execution_count": 23,
     "metadata": {},
     "output_type": "execute_result"
    }
   ],
   "source": [
    "0.7006528973579407/4.184"
   ]
  },
  {
   "cell_type": "code",
   "execution_count": 7,
   "metadata": {
    "collapsed": true
   },
   "outputs": [],
   "source": [
    "#Ori=np.array([0.026909,0.406787,0.970964])\n",
    "#Open=np.array([0.00010385283729874573,0.002036441534983169,0.005168611294720904])"
   ]
  },
  {
   "cell_type": "code",
   "execution_count": 8,
   "metadata": {},
   "outputs": [],
   "source": [
    "#Ori/Open/100"
   ]
  },
  {
   "cell_type": "code",
   "execution_count": 9,
   "metadata": {
    "collapsed": true
   },
   "outputs": [],
   "source": [
    "lines=[\"Step   \tChain   \tShake   \tChi     \tRama    \tExcluded\tDSSP    \tP_AP    \tWater   \tBurial  \tHelix   \tAMH-Go  \tFrag_Mem\tVec_FM  \tMembrane\tSSB     \tElectro.\tVTotal\",\n",
    "\"0 \t4.359499\t0.000000\t0.342007\t-0.498416\t0.000000\t0.000000\t0.000000\t0.000000\t-4.207226\t0.000000\t0.000000\t-28.768079\t0.000000\t0.000000\t0.000000\t0.000000\t-28.772215\"]\n",
    "for line in lines[1:]:\n",
    "    Original_energy={a.strip():float(b) for a,b in zip(lines[0].split('\\t'),line.split('\\t'))}"
   ]
  },
  {
   "cell_type": "code",
   "execution_count": 10,
   "metadata": {},
   "outputs": [
    {
     "data": {
      "text/plain": [
       "{'AMH-Go': 0.0,\n",
       " 'Burial': -4.207226,\n",
       " 'Chain': 4.359499,\n",
       " 'Chi': 0.342007,\n",
       " 'DSSP': 0.0,\n",
       " 'Electro.': 0.0,\n",
       " 'Excluded': 0.0,\n",
       " 'Frag_Mem': -28.768079,\n",
       " 'Helix': 0.0,\n",
       " 'Membrane': 0.0,\n",
       " 'P_AP': 0.0,\n",
       " 'Rama': -0.498416,\n",
       " 'SSB': 0.0,\n",
       " 'Shake': 0.0,\n",
       " 'Step': 0.0,\n",
       " 'VTotal': -28.772215,\n",
       " 'Vec_FM': 0.0,\n",
       " 'Water': 0.0}"
      ]
     },
     "execution_count": 10,
     "metadata": {},
     "output_type": "execute_result"
    }
   ],
   "source": [
    "Original_energy"
   ]
  },
  {
   "cell_type": "code",
   "execution_count": 11,
   "metadata": {},
   "outputs": [
    {
     "data": {
      "text/html": [
       "<div>\n",
       "<style>\n",
       "    .dataframe thead tr:only-child th {\n",
       "        text-align: right;\n",
       "    }\n",
       "\n",
       "    .dataframe thead th {\n",
       "        text-align: left;\n",
       "    }\n",
       "\n",
       "    .dataframe tbody tr th {\n",
       "        vertical-align: top;\n",
       "    }\n",
       "</style>\n",
       "<table border=\"1\" class=\"dataframe\">\n",
       "  <thead>\n",
       "    <tr style=\"text-align: right;\">\n",
       "      <th></th>\n",
       "      <th>Term</th>\n",
       "      <th>FF</th>\n",
       "      <th>Energy</th>\n",
       "    </tr>\n",
       "  </thead>\n",
       "  <tbody>\n",
       "    <tr>\n",
       "      <th>0</th>\n",
       "      <td>Chain</td>\n",
       "      <td>OA</td>\n",
       "      <td>366.968994</td>\n",
       "    </tr>\n",
       "    <tr>\n",
       "      <th>1</th>\n",
       "      <td>Chain</td>\n",
       "      <td>AWSEM</td>\n",
       "      <td>18.240144</td>\n",
       "    </tr>\n",
       "  </tbody>\n",
       "</table>\n",
       "</div>"
      ],
      "text/plain": [
       "    Term     FF      Energy\n",
       "0  Chain     OA  366.968994\n",
       "1  Chain  AWSEM   18.240144"
      ]
     },
     "execution_count": 11,
     "metadata": {},
     "output_type": "execute_result"
    }
   ],
   "source": [
    "import pandas\n",
    "Energy_Comparison=pandas.concat([pandas.Series(OA_energy),\n",
    "                                 pandas.Series(Original_energy)*4.184], \n",
    "                                axis=1,keys=['OA','AWSEM'])\n",
    "Energy_Comparison=Energy_Comparison.dropna()\n",
    "Energy_Comparison=Energy_Comparison.stack().reset_index()\n",
    "Energy_Comparison.columns=['Term','FF','Energy']\n",
    "Energy_Comparison"
   ]
  },
  {
   "cell_type": "code",
   "execution_count": 12,
   "metadata": {},
   "outputs": [
    {
     "data": {
      "text/plain": [
       "<matplotlib.axes._subplots.AxesSubplot at 0x1a190deeb8>"
      ]
     },
     "execution_count": 12,
     "metadata": {},
     "output_type": "execute_result"
    },
    {
     "data": {
      "image/png": "[encoded data removed]",
      "text/plain": [
       "<matplotlib.figure.Figure at 0x1a190de7b8>"
      ]
     },
     "metadata": {},
     "output_type": "display_data"
    }
   ],
   "source": [
    "import seaborn as sns\n",
    "%matplotlib inline\n",
    "sns.barplot(x='Term',y='Energy',hue='FF',data=Energy_Comparison.dropna(),)"
   ]
  },
  {
   "cell_type": "code",
   "execution_count": 13,
   "metadata": {
    "collapsed": true
   },
   "outputs": [],
   "source": [
    "#Original AWSEM energy\n",
    "lines=[\"${Step} ${E_chain} ${E_bond} ${E_chi} ${E_rama} ${E_excl} ${E_dssp} ${E_pap} ${E_water} ${E_helix} ${E_fmem} ${E_P}\",\n",
    "\"0 125.14097265090966005 2576.6193841718609292 43.11773912006802334 -669.30477221848389036 139.62710896190355925 -14.657452540386717743 -9.370328729848813154 -296.90172405512521436 -53.589501506675645714 -932.83474949303399626 907.84667636118797418\",\n",
    "\"0 125.14097265090966005 2576.6193841718609292 43.11773912006802334 -669.30477221848389036 139.62710896190355925 -14.657452540386717743 -9.370328729848813154 -296.90172405512521436 -53.589501506675645714 -932.83474949303399626 907.84667636118797418\",\n",
    "\"0 125.14097265090966005 2576.6193841718609292 43.11773912006802334 -669.30477221848389036 139.62710896190355925 -14.657452540386717743 -9.370328729848813154 -296.90172405512521436 -53.589501506675645714 -932.83474949303399626 907.84667636118797418\",\n",
    "\"0 125.14097265090966005 2576.6193841718609292 43.11773912006802334 -669.30477221848389036 139.62710896190355925 -14.657452540386717743 -9.370328729848813154 -296.90172405512521436 -53.589501506675645714 -932.83474949303399626 907.84667636118797418\",\n",
    "\"0 125.14097265090966005 2576.6193841718609292 43.11773912006802334 -669.30477221848389036 139.62710896190355925 -14.657452540386717743 -9.370328729848813154 -296.90172405512521436 -53.589501506675645714 -932.83474949303399626 907.84667636118797418\"] \n",
    "for line in lines[1:]:\n",
    "    Original_energy={a:float(b) for a,b in zip(lines[0].split(),line.split())}"
   ]
  },
  {
   "cell_type": "code",
   "execution_count": 17,
   "metadata": {
    "scrolled": false
   },
   "outputs": [
    {
     "name": "stderr",
     "output_type": "stream",
     "text": [
      "/Users/weilu/anaconda3/lib/python3.6/site-packages/simtk/openmm/app/internal/pdbstructure.py:536: UserWarning: WARNING: duplicate atom (ATOM     11  HN  ALA A   1      -0.508   0.077  -0.877  1.00  0.00           H  , ATOM      5  HN  ALA A   1      -0.495   0.091   0.883  1.00  0.00           H  )\n",
      "  warnings.warn(\"WARNING: duplicate atom (%s, %s)\" % (atom, old_atom._pdb_string(old_atom.serial_number, atom.alternate_location_indicator)))\n",
      "/Users/weilu/anaconda3/lib/python3.6/site-packages/Bio/PDB/PDBParser.py:289: PDBConstructionWarning: PDBConstructionException: Atom H defined twice in residue <Residue ALA het=  resseq=1 icode= > at line 14.\n",
      "Exception ignored.\n",
      "Some atoms or residues may be missing in the data structure.\n",
      "  % message, PDBConstructionWarning)\n",
      "/Users/weilu/anaconda3/lib/python3.6/site-packages/Bio/PDB/PDBParser.py:289: PDBConstructionWarning: PDBConstructionException: Atom H defined twice in residue <Residue ALA het=  resseq=1 icode= > at line 14.\n",
      "Exception ignored.\n",
      "Some atoms or residues may be missing in the data structure.\n",
      "  % message, PDBConstructionWarning)\n"
     ]
    }
   ],
   "source": [
    "resnames=prepare_pdb('pdb_samples/n-ALAv2.pdb','A')\n",
    "oa = OpenMMAWSEMSystem('pdb_samples/n-ALAv2-openmmawsem.pdb',resnames, xml_filename=\"../awsem.xml\")"
   ]
  },
  {
   "cell_type": "code",
   "execution_count": 18,
   "metadata": {},
   "outputs": [
    {
     "name": "stdout",
     "output_type": "stream",
     "text": [
      "-53.957040945257404\n",
      "203.21178289921693\n"
     ]
    }
   ],
   "source": [
    "print(Original_energy['${E_rama}']/12.40440099184707)\n",
    "print(Original_energy['${E_chi}']/0.21218129433691502)"
   ]
  },
  {
   "cell_type": "code",
   "execution_count": 19,
   "metadata": {},
   "outputs": [
    {
     "name": "stderr",
     "output_type": "stream",
     "text": [
      "/Users/weilu/anaconda3/lib/python3.6/site-packages/simtk/openmm/app/internal/pdbstructure.py:536: UserWarning: WARNING: duplicate atom (ATOM     11  HN  ALA A   1      -0.508   0.077  -0.877  1.00  0.00           H  , ATOM      5  HN  ALA A   1      -0.495   0.091   0.883  1.00  0.00           H  )\n",
      "  warnings.warn(\"WARNING: duplicate atom (%s, %s)\" % (atom, old_atom._pdb_string(old_atom.serial_number, atom.alternate_location_indicator)))\n"
     ]
    }
   ],
   "source": [
    "fixer = PDBFixer(filename='pdb_samples/n-ALAv2.pdb')"
   ]
  },
  {
   "cell_type": "code",
   "execution_count": 20,
   "metadata": {
    "collapsed": true
   },
   "outputs": [],
   "source": [
    "p=oa.system.getVirtualSite(66)"
   ]
  },
  {
   "cell_type": "code",
   "execution_count": 21,
   "metadata": {},
   "outputs": [
    {
     "name": "stdout",
     "output_type": "stream",
     "text": [
      "[ 29.445   0.001  21.284] [ 31.374   0.002  22.949] [ 28.929   0.002  22.068]\n",
      "2.4545970985006895 2.564555486626491 2.548508839171672\n"
     ]
    }
   ],
   "source": [
    "#Chain\n",
    "ca_im = np.array([27.280,0.002,20.276]) #CA10\n",
    "ca_i  = np.array([30.943,0.000,21.436]) #CA11\n",
    "ca_ip = np.array([33.178,0.002,24.563]) #CA12\n",
    "cb_i  = np.array([31.498,1.207,20.689]) #CB11\n",
    "o_im  = np.array([29.492,-0.001,19.247]) #O10\n",
    "o_i   = np.array([30.648,0.004,23.858])  #O11\n",
    "\n",
    "n_i   = 0.48318 *ca_im + 0.70328 *ca_i - 0.18643 *o_im\n",
    "cp_i = 0.44365 *ca_i + 0.23520 *ca_ip + 0.32115 *o_i\n",
    "h_i   = 0.84100 *ca_im + 0.89296 *ca_i - 0.73389 *o_im\n",
    "np.set_printoptions(suppress=True)\n",
    "print(n_i.round(3),cp_i.round(3),h_i.round(3))\n",
    "from scipy.spatial import distance as sdist\n",
    "print(sdist.euclidean(n_i,cb_i),sdist.euclidean(cp_i,cb_i),sdist.euclidean(n_i,cp_i))"
   ]
  },
  {
   "cell_type": "code",
   "execution_count": 10,
   "metadata": {},
   "outputs": [
    {
     "ename": "ZeroDivisionError",
     "evalue": "float division by zero",
     "output_type": "error",
     "traceback": [
      "\u001b[0;31m---------------------------------------------------------------------------\u001b[0m",
      "\u001b[0;31mZeroDivisionError\u001b[0m                         Traceback (most recent call last)",
      "\u001b[0;32m<ipython-input-10-ebea5fc5bd9d>\u001b[0m in \u001b[0;36m<module>\u001b[0;34m()\u001b[0m\n\u001b[1;32m      6\u001b[0m \u001b[0;31m#pdb = PDBFile('/home/cab22/davinci/scratch/Dynamicsv4/1l63_Original_All_MD_001/Structure.pdb')\u001b[0m\u001b[0;34m\u001b[0m\u001b[0;34m\u001b[0m\u001b[0m\n\u001b[1;32m      7\u001b[0m \u001b[0;32mfor\u001b[0m \u001b[0mi\u001b[0m \u001b[0;32min\u001b[0m \u001b[0mrange\u001b[0m\u001b[0;34m(\u001b[0m\u001b[0;36m1\u001b[0m\u001b[0;34m,\u001b[0m\u001b[0;36m14\u001b[0m\u001b[0;34m)\u001b[0m\u001b[0;34m:\u001b[0m\u001b[0;34m\u001b[0m\u001b[0m\n\u001b[0;32m----> 8\u001b[0;31m     \u001b[0moa\u001b[0m\u001b[0;34m=\u001b[0m\u001b[0mopenawsemsystem\u001b[0m\u001b[0;34m(\u001b[0m\u001b[0mpdb\u001b[0m\u001b[0;34m=\u001b[0m\u001b[0;34m'/home/cab22/davinci/scratch/Dynamicsv4/1l63_Original_All_MD_001/Structure.pdb'\u001b[0m\u001b[0;34m,\u001b[0m\u001b[0mchain\u001b[0m\u001b[0;34m=\u001b[0m\u001b[0;34m'A'\u001b[0m\u001b[0;34m,\u001b[0m\u001b[0mt\u001b[0m\u001b[0;34m=\u001b[0m\u001b[0mi\u001b[0m\u001b[0;34m)\u001b[0m\u001b[0;34m\u001b[0m\u001b[0m\n\u001b[0m\u001b[1;32m      9\u001b[0m     \u001b[0;31m# setup simulation parameters\u001b[0m\u001b[0;34m\u001b[0m\u001b[0;34m\u001b[0m\u001b[0m\n\u001b[1;32m     10\u001b[0m     \u001b[0mreporter_frequency\u001b[0m \u001b[0;34m=\u001b[0m \u001b[0;36m1000\u001b[0m\u001b[0;34m\u001b[0m\u001b[0m\n",
      "\u001b[0;32m<ipython-input-9-b0b49f770a9a>\u001b[0m in \u001b[0;36mopenawsemsystem\u001b[0;34m(pdb, chain, t)\u001b[0m\n\u001b[1;32m      2\u001b[0m \u001b[0;34m\u001b[0m\u001b[0m\n\u001b[1;32m      3\u001b[0m \u001b[0;32mdef\u001b[0m \u001b[0mopenawsemsystem\u001b[0m\u001b[0;34m(\u001b[0m\u001b[0mpdb\u001b[0m\u001b[0;34m=\u001b[0m\u001b[0;34m'1r69.pdb'\u001b[0m\u001b[0;34m,\u001b[0m\u001b[0mchain\u001b[0m\u001b[0;34m=\u001b[0m\u001b[0;34m'A'\u001b[0m\u001b[0;34m,\u001b[0m\u001b[0mt\u001b[0m\u001b[0;34m=\u001b[0m\u001b[0;36m1\u001b[0m\u001b[0;34m)\u001b[0m\u001b[0;34m:\u001b[0m\u001b[0;34m\u001b[0m\u001b[0m\n\u001b[0;32m----> 4\u001b[0;31m     \u001b[0mresnames\u001b[0m\u001b[0;34m=\u001b[0m\u001b[0mprepare_pdb\u001b[0m\u001b[0;34m(\u001b[0m\u001b[0mpdb\u001b[0m\u001b[0;34m,\u001b[0m\u001b[0mchain\u001b[0m\u001b[0;34m)\u001b[0m\u001b[0;34m\u001b[0m\u001b[0m\n\u001b[0m\u001b[1;32m      5\u001b[0m     \u001b[0moa\u001b[0m \u001b[0;34m=\u001b[0m \u001b[0mOpenMMAWSEMSystem\u001b[0m\u001b[0;34m(\u001b[0m\u001b[0;34m'1r69-openmmawsem.pdb'\u001b[0m\u001b[0;34m,\u001b[0m\u001b[0mresnames\u001b[0m\u001b[0;34m)\u001b[0m\u001b[0;34m\u001b[0m\u001b[0m\n\u001b[1;32m      6\u001b[0m \u001b[0;34m\u001b[0m\u001b[0m\n",
      "\u001b[0;32m~/Programs/openmmawsem/openmmawsem.py\u001b[0m in \u001b[0;36mprepare_pdb\u001b[0;34m(pdb_filename, chains_to_simulate, input_pdb_filename)\u001b[0m\n\u001b[1;32m     30\u001b[0m         \u001b[0;31m# http://htmlpreview.github.io/?https://raw.github.com/pandegroup/pdbfixer/master/Manual.html\u001b[0m\u001b[0;34m\u001b[0m\u001b[0;34m\u001b[0m\u001b[0m\n\u001b[1;32m     31\u001b[0m         \u001b[0;31m# fix up input pdb\u001b[0m\u001b[0;34m\u001b[0m\u001b[0;34m\u001b[0m\u001b[0m\n\u001b[0;32m---> 32\u001b[0;31m         \u001b[0mfixer\u001b[0m \u001b[0;34m=\u001b[0m \u001b[0mPDBFixer\u001b[0m\u001b[0;34m(\u001b[0m\u001b[0mfilename\u001b[0m\u001b[0;34m=\u001b[0m\u001b[0mpdb_filename\u001b[0m\u001b[0;34m)\u001b[0m\u001b[0;34m\u001b[0m\u001b[0m\n\u001b[0m\u001b[1;32m     33\u001b[0m \u001b[0;34m\u001b[0m\u001b[0m\n\u001b[1;32m     34\u001b[0m         \u001b[0;31m# remove unwanted chains\u001b[0m\u001b[0;34m\u001b[0m\u001b[0;34m\u001b[0m\u001b[0m\n",
      "\u001b[0;32m~/Programs/anaconda3/envs/py36/lib/python3.6/site-packages/pdbfixer/pdbfixer.py\u001b[0m in \u001b[0;36m__init__\u001b[0;34m(self, filename, pdbfile, pdbxfile, url, pdbid)\u001b[0m\n\u001b[1;32m    236\u001b[0m                 \u001b[0mself\u001b[0m\u001b[0;34m.\u001b[0m\u001b[0m_initializeFromPDBx\u001b[0m\u001b[0;34m(\u001b[0m\u001b[0mfile\u001b[0m\u001b[0;34m.\u001b[0m\u001b[0mread\u001b[0m\u001b[0;34m(\u001b[0m\u001b[0;34m)\u001b[0m\u001b[0;34m)\u001b[0m\u001b[0;34m\u001b[0m\u001b[0m\n\u001b[1;32m    237\u001b[0m             \u001b[0;32melse\u001b[0m\u001b[0;34m:\u001b[0m\u001b[0;34m\u001b[0m\u001b[0m\n\u001b[0;32m--> 238\u001b[0;31m                 \u001b[0mself\u001b[0m\u001b[0;34m.\u001b[0m\u001b[0m_initializeFromPDB\u001b[0m\u001b[0;34m(\u001b[0m\u001b[0mfile\u001b[0m\u001b[0;34m)\u001b[0m\u001b[0;34m\u001b[0m\u001b[0m\n\u001b[0m\u001b[1;32m    239\u001b[0m             \u001b[0mfile\u001b[0m\u001b[0;34m.\u001b[0m\u001b[0mclose\u001b[0m\u001b[0;34m(\u001b[0m\u001b[0;34m)\u001b[0m\u001b[0;34m\u001b[0m\u001b[0m\n\u001b[1;32m    240\u001b[0m         \u001b[0;32melif\u001b[0m \u001b[0mpdbfile\u001b[0m\u001b[0;34m:\u001b[0m\u001b[0;34m\u001b[0m\u001b[0m\n",
      "\u001b[0;32m~/Programs/anaconda3/envs/py36/lib/python3.6/site-packages/pdbfixer/pdbfixer.py\u001b[0m in \u001b[0;36m_initializeFromPDB\u001b[0;34m(self, file)\u001b[0m\n\u001b[1;32m    273\u001b[0m         \u001b[0;34m\"\"\"Initialize this object by reading a PDB file.\"\"\"\u001b[0m\u001b[0;34m\u001b[0m\u001b[0m\n\u001b[1;32m    274\u001b[0m \u001b[0;34m\u001b[0m\u001b[0m\n\u001b[0;32m--> 275\u001b[0;31m         \u001b[0mstructure\u001b[0m \u001b[0;34m=\u001b[0m \u001b[0mPdbStructure\u001b[0m\u001b[0;34m(\u001b[0m\u001b[0mfile\u001b[0m\u001b[0;34m)\u001b[0m\u001b[0;34m\u001b[0m\u001b[0m\n\u001b[0m\u001b[1;32m    276\u001b[0m         \u001b[0mpdb\u001b[0m \u001b[0;34m=\u001b[0m \u001b[0mapp\u001b[0m\u001b[0;34m.\u001b[0m\u001b[0mPDBFile\u001b[0m\u001b[0;34m(\u001b[0m\u001b[0mstructure\u001b[0m\u001b[0;34m)\u001b[0m\u001b[0;34m\u001b[0m\u001b[0m\n\u001b[1;32m    277\u001b[0m         \u001b[0mself\u001b[0m\u001b[0;34m.\u001b[0m\u001b[0mtopology\u001b[0m \u001b[0;34m=\u001b[0m \u001b[0mpdb\u001b[0m\u001b[0;34m.\u001b[0m\u001b[0mtopology\u001b[0m\u001b[0;34m\u001b[0m\u001b[0m\n",
      "\u001b[0;32m~/Programs/anaconda3/envs/py36/lib/python3.6/site-packages/simtk/openmm/app/internal/pdbstructure.py\u001b[0m in \u001b[0;36m__init__\u001b[0;34m(self, input_stream, load_all_models, extraParticleIdentifier)\u001b[0m\n\u001b[1;32m    150\u001b[0m         \u001b[0mself\u001b[0m\u001b[0;34m.\u001b[0m\u001b[0mmodified_residues\u001b[0m \u001b[0;34m=\u001b[0m \u001b[0;34m[\u001b[0m\u001b[0;34m]\u001b[0m\u001b[0;34m\u001b[0m\u001b[0m\n\u001b[1;32m    151\u001b[0m         \u001b[0;31m# read file\u001b[0m\u001b[0;34m\u001b[0m\u001b[0;34m\u001b[0m\u001b[0m\n\u001b[0;32m--> 152\u001b[0;31m         \u001b[0mself\u001b[0m\u001b[0;34m.\u001b[0m\u001b[0m_load\u001b[0m\u001b[0;34m(\u001b[0m\u001b[0minput_stream\u001b[0m\u001b[0;34m)\u001b[0m\u001b[0;34m\u001b[0m\u001b[0m\n\u001b[0m\u001b[1;32m    153\u001b[0m \u001b[0;34m\u001b[0m\u001b[0m\n\u001b[1;32m    154\u001b[0m     \u001b[0;32mdef\u001b[0m \u001b[0m_load\u001b[0m\u001b[0;34m(\u001b[0m\u001b[0mself\u001b[0m\u001b[0;34m,\u001b[0m \u001b[0minput_stream\u001b[0m\u001b[0;34m)\u001b[0m\u001b[0;34m:\u001b[0m\u001b[0;34m\u001b[0m\u001b[0m\n",
      "\u001b[0;32m~/Programs/anaconda3/envs/py36/lib/python3.6/site-packages/simtk/openmm/app/internal/pdbstructure.py\u001b[0m in \u001b[0;36m_load\u001b[0;34m(self, input_stream)\u001b[0m\n\u001b[1;32m    187\u001b[0m                 \u001b[0mbeta\u001b[0m \u001b[0;34m=\u001b[0m \u001b[0mfloat\u001b[0m\u001b[0;34m(\u001b[0m\u001b[0mpdb_line\u001b[0m\u001b[0;34m[\u001b[0m\u001b[0;36m40\u001b[0m\u001b[0;34m:\u001b[0m\u001b[0;36m47\u001b[0m\u001b[0;34m]\u001b[0m\u001b[0;34m)\u001b[0m\u001b[0;34m*\u001b[0m\u001b[0mmath\u001b[0m\u001b[0;34m.\u001b[0m\u001b[0mpi\u001b[0m\u001b[0;34m/\u001b[0m\u001b[0;36m180.0\u001b[0m\u001b[0;34m\u001b[0m\u001b[0m\n\u001b[1;32m    188\u001b[0m                 \u001b[0mgamma\u001b[0m \u001b[0;34m=\u001b[0m \u001b[0mfloat\u001b[0m\u001b[0;34m(\u001b[0m\u001b[0mpdb_line\u001b[0m\u001b[0;34m[\u001b[0m\u001b[0;36m47\u001b[0m\u001b[0;34m:\u001b[0m\u001b[0;36m54\u001b[0m\u001b[0;34m]\u001b[0m\u001b[0;34m)\u001b[0m\u001b[0;34m*\u001b[0m\u001b[0mmath\u001b[0m\u001b[0;34m.\u001b[0m\u001b[0mpi\u001b[0m\u001b[0;34m/\u001b[0m\u001b[0;36m180.0\u001b[0m\u001b[0;34m\u001b[0m\u001b[0m\n\u001b[0;32m--> 189\u001b[0;31m                 \u001b[0mself\u001b[0m\u001b[0;34m.\u001b[0m\u001b[0m_periodic_box_vectors\u001b[0m \u001b[0;34m=\u001b[0m \u001b[0mcomputePeriodicBoxVectors\u001b[0m\u001b[0;34m(\u001b[0m\u001b[0ma_length\u001b[0m\u001b[0;34m,\u001b[0m \u001b[0mb_length\u001b[0m\u001b[0;34m,\u001b[0m \u001b[0mc_length\u001b[0m\u001b[0;34m,\u001b[0m \u001b[0malpha\u001b[0m\u001b[0;34m,\u001b[0m \u001b[0mbeta\u001b[0m\u001b[0;34m,\u001b[0m \u001b[0mgamma\u001b[0m\u001b[0;34m)\u001b[0m\u001b[0;34m\u001b[0m\u001b[0m\n\u001b[0m\u001b[1;32m    190\u001b[0m             \u001b[0;32melif\u001b[0m \u001b[0;34m(\u001b[0m\u001b[0mpdb_line\u001b[0m\u001b[0;34m.\u001b[0m\u001b[0mfind\u001b[0m\u001b[0;34m(\u001b[0m\u001b[0;34m\"CONECT\"\u001b[0m\u001b[0;34m)\u001b[0m \u001b[0;34m==\u001b[0m \u001b[0;36m0\u001b[0m\u001b[0;34m)\u001b[0m\u001b[0;34m:\u001b[0m\u001b[0;34m\u001b[0m\u001b[0m\n\u001b[1;32m    191\u001b[0m                 \u001b[0matoms\u001b[0m \u001b[0;34m=\u001b[0m \u001b[0;34m[\u001b[0m\u001b[0mint\u001b[0m\u001b[0;34m(\u001b[0m\u001b[0mpdb_line\u001b[0m\u001b[0;34m[\u001b[0m\u001b[0;36m6\u001b[0m\u001b[0;34m:\u001b[0m\u001b[0;36m11\u001b[0m\u001b[0;34m]\u001b[0m\u001b[0;34m)\u001b[0m\u001b[0;34m]\u001b[0m\u001b[0;34m\u001b[0m\u001b[0m\n",
      "\u001b[0;32m~/Programs/anaconda3/envs/py36/lib/python3.6/site-packages/simtk/openmm/app/internal/unitcell.py\u001b[0m in \u001b[0;36mcomputePeriodicBoxVectors\u001b[0;34m(a_length, b_length, c_length, alpha, beta, gamma)\u001b[0m\n\u001b[1;32m     57\u001b[0m     \u001b[0mb\u001b[0m \u001b[0;34m=\u001b[0m \u001b[0;34m[\u001b[0m\u001b[0mb_length\u001b[0m\u001b[0;34m*\u001b[0m\u001b[0mmath\u001b[0m\u001b[0;34m.\u001b[0m\u001b[0mcos\u001b[0m\u001b[0;34m(\u001b[0m\u001b[0mgamma\u001b[0m\u001b[0;34m)\u001b[0m\u001b[0;34m,\u001b[0m \u001b[0mb_length\u001b[0m\u001b[0;34m*\u001b[0m\u001b[0mmath\u001b[0m\u001b[0;34m.\u001b[0m\u001b[0msin\u001b[0m\u001b[0;34m(\u001b[0m\u001b[0mgamma\u001b[0m\u001b[0;34m)\u001b[0m\u001b[0;34m,\u001b[0m \u001b[0;36m0\u001b[0m\u001b[0;34m]\u001b[0m\u001b[0;34m\u001b[0m\u001b[0m\n\u001b[1;32m     58\u001b[0m     \u001b[0mcx\u001b[0m \u001b[0;34m=\u001b[0m \u001b[0mc_length\u001b[0m\u001b[0;34m*\u001b[0m\u001b[0mmath\u001b[0m\u001b[0;34m.\u001b[0m\u001b[0mcos\u001b[0m\u001b[0;34m(\u001b[0m\u001b[0mbeta\u001b[0m\u001b[0;34m)\u001b[0m\u001b[0;34m\u001b[0m\u001b[0m\n\u001b[0;32m---> 59\u001b[0;31m     \u001b[0mcy\u001b[0m \u001b[0;34m=\u001b[0m \u001b[0mc_length\u001b[0m\u001b[0;34m*\u001b[0m\u001b[0;34m(\u001b[0m\u001b[0mmath\u001b[0m\u001b[0;34m.\u001b[0m\u001b[0mcos\u001b[0m\u001b[0;34m(\u001b[0m\u001b[0malpha\u001b[0m\u001b[0;34m)\u001b[0m\u001b[0;34m-\u001b[0m\u001b[0mmath\u001b[0m\u001b[0;34m.\u001b[0m\u001b[0mcos\u001b[0m\u001b[0;34m(\u001b[0m\u001b[0mbeta\u001b[0m\u001b[0;34m)\u001b[0m\u001b[0;34m*\u001b[0m\u001b[0mmath\u001b[0m\u001b[0;34m.\u001b[0m\u001b[0mcos\u001b[0m\u001b[0;34m(\u001b[0m\u001b[0mgamma\u001b[0m\u001b[0;34m)\u001b[0m\u001b[0;34m)\u001b[0m\u001b[0;34m/\u001b[0m\u001b[0mmath\u001b[0m\u001b[0;34m.\u001b[0m\u001b[0msin\u001b[0m\u001b[0;34m(\u001b[0m\u001b[0mgamma\u001b[0m\u001b[0;34m)\u001b[0m\u001b[0;34m\u001b[0m\u001b[0m\n\u001b[0m\u001b[1;32m     60\u001b[0m     \u001b[0mcz\u001b[0m \u001b[0;34m=\u001b[0m \u001b[0mmath\u001b[0m\u001b[0;34m.\u001b[0m\u001b[0msqrt\u001b[0m\u001b[0;34m(\u001b[0m\u001b[0mc_length\u001b[0m\u001b[0;34m*\u001b[0m\u001b[0mc_length\u001b[0m\u001b[0;34m-\u001b[0m\u001b[0mcx\u001b[0m\u001b[0;34m*\u001b[0m\u001b[0mcx\u001b[0m\u001b[0;34m-\u001b[0m\u001b[0mcy\u001b[0m\u001b[0;34m*\u001b[0m\u001b[0mcy\u001b[0m\u001b[0;34m)\u001b[0m\u001b[0;34m\u001b[0m\u001b[0m\n\u001b[1;32m     61\u001b[0m     \u001b[0mc\u001b[0m \u001b[0;34m=\u001b[0m \u001b[0;34m[\u001b[0m\u001b[0mcx\u001b[0m\u001b[0;34m,\u001b[0m \u001b[0mcy\u001b[0m\u001b[0;34m,\u001b[0m \u001b[0mcz\u001b[0m\u001b[0;34m]\u001b[0m\u001b[0;34m\u001b[0m\u001b[0m\n",
      "\u001b[0;31mZeroDivisionError\u001b[0m: float division by zero"
     ]
    }
   ],
   "source": [
    "from simtk.openmm.app import *\n",
    "from simtk.openmm import *\n",
    "from simtk.unit import *\n",
    "from sys import stdout\n",
    "import os\n",
    "#pdb = PDBFile('/home/cab22/davinci/scratch/Dynamicsv4/1l63_Original_All_MD_001/Structure.pdb')\n",
    "for i in range(1,14):\n",
    "    oa=openawsemsystem(pdb='/home/cab22/davinci/scratch/Dynamicsv4/1l63_Original_All_MD_001/Structure.pdb',chain='A',t=i)\n",
    "    # setup simulation parameters\n",
    "    reporter_frequency = 1000\n",
    "    num_steps = 1000\n",
    "    step_size = 2*femtoseconds\n",
    "    temperature = 100*kelvin\n",
    "    #platform = Platform.getPlatformByName('Reference') # OpenCL, CUDA, CPU, or Reference\n",
    "\n",
    "    # start simulation\n",
    "    #integrator = VerletIntegrator(step_size)\n",
    "    integrator = LangevinIntegrator(temperature, 1/picosecond, step_size)\n",
    "    #simulation = Simulation(oa.pdb.topology, oa.system, integrator, platform)\n",
    "    simulation = Simulation(oa.pdb.topology, oa.system, integrator)\n",
    "    simulation.context.setPositions(oa.pdb.positions)\n",
    "    simulation.context.setVelocitiesToTemperature(temperature, 1)\n",
    "    simulation.minimizeEnergy(tolerance=Quantity(value=.0001, unit=kilojoule/mole))\n",
    "    simulation.reporters.append(PDBReporter('output.pdb', reporter_frequency))\n",
    "    #simulation.reporters.append(ForceReporter('forces.txt', 100))\n",
    "    simulation.reporters.append(StateDataReporter(stdout, reporter_frequency, step=True,\n",
    "            potentialEnergy=True, temperature=True))\n",
    "    tt=time.time()\n",
    "    state = simulation.context.getState(getEnergy=True)\n",
    "    print(i,time.time()-tt, state.getPotentialEnergy())\n",
    "    #simulation.step(num_steps)\n",
    "    #print ()\n",
    "\n",
    "#os.path.join('structures', file)\n",
    "#simulation.context.setPositions(pdb.positions)\n",
    "#state = simulation.context.getState(getEnergy=True)\n",
    "#print(file, state.getPotentialEnergy())"
   ]
  },
  {
   "cell_type": "code",
   "execution_count": 175,
   "metadata": {
    "collapsed": true
   },
   "outputs": [],
   "source": [
    "from Bio.PDB.PDBParser import PDBParser\n",
    "from Bio.PDB import PDBIO\n",
    "\n",
    "\n",
    "p = PDBParser()\n",
    "structure=p.get_structure('X','n-ALAv2-openmmawsem.pdb')\n",
    "for model in structure:\n",
    "    for chain in model:\n",
    "        r_im={}\n",
    "        r_i={}\n",
    "        for residue in chain:\n",
    "            r_im=r_i\n",
    "            r_i={}\n",
    "            for atom in residue:\n",
    "                r_i[atom.get_name()]=atom\n",
    "            if 'N' in r_i:\n",
    "                r_i['N'].set_coord( 0.48318*r_im['CA'].get_coord()+ 0.70328*r_i['CA'].get_coord()- 0.18643 *r_im['O'].get_coord())\n",
    "            if 'C' in r_im:\n",
    "                r_im['C'].set_coord(0.44365*r_im['CA'].get_coord()+ 0.23520*r_i['CA'].get_coord()+ 0.32115 *r_im['O'].get_coord())\n",
    "            if 'H' in r_i:\n",
    "                r_i['H'].set_coord( 0.84100*r_im['CA'].get_coord()+ 0.89296*r_i['CA'].get_coord()- 0.73389 *r_im['O'].get_coord())\n",
    "io = PDBIO()\n",
    "io.set_structure(structure)\n",
    "io.save('n-ALAv2-openmmawsem.pdb')\n",
    "        "
   ]
  },
  {
   "cell_type": "code",
   "execution_count": 63,
   "metadata": {
    "ExecuteTime": {
     "end_time": "2017-07-22T09:22:57.326918",
     "start_time": "2017-07-22T09:21:02.306560"
    },
    "run_control": {
     "frozen": false,
     "read_only": false
    }
   },
   "outputs": [
    {
     "name": "stdout",
     "output_type": "stream",
     "text": [
      "#\"Step\",\"Potential Energy (kJ/mole)\",\"Temperature (K)\"\n",
      "1000,45.44520997945054,98.48043264234444\n",
      "2000,43.25902950456716,99.42327482902984\n",
      "3000,60.64954762723584,92.38890160149656\n",
      "4000,71.04649949384444,87.87267782357067\n",
      "5000,73.51314544188291,86.78654316661022\n",
      "6000,63.940958077122154,91.55475453241148\n",
      "7000,68.18276021564601,89.71917457439581\n",
      "8000,64.99740223781758,91.03638166832644\n",
      "9000,68.63018054582882,89.0797443701043\n",
      "10000,66.7081574557269,89.9204899632133\n",
      "11000,66.43440643658425,90.54841293458144\n",
      "12000,56.81852337962921,94.61070475461929\n",
      "13000,74.37973063354193,87.32569476718385\n",
      "14000,83.97162833865353,83.09503037835296\n",
      "15000,58.1634146317665,94.62102136265922\n",
      "16000,58.84944487323446,94.26685492980312\n",
      "17000,50.47381651998148,97.83488606673085\n",
      "18000,72.3135816332906,88.35020540351348\n",
      "19000,79.3307520855188,85.2547496625521\n",
      "20000,70.41090469750387,89.21870725300316\n",
      "21000,5444.765969169361,2496.0197693628697\n",
      "22000,4072.5757181118056,3096.525313708415\n",
      "23000,4552.049012845149,2886.288476416107\n",
      "24000,2430.0118996841147,3818.399522519269\n",
      "25000,2851.171872420236,3631.478411429396\n",
      "26000,1320.0589448619576,4309.689335998365\n",
      "27000,1834.8700710501616,4083.4089475690503\n",
      "28000,1067.1937524929876,4430.7608939131205\n",
      "29000,1333.115905981925,4308.07025942201\n",
      "30000,2194.960958124995,3932.865604315945\n",
      "31000,4517.97617243539,2916.31814064084\n",
      "32000,6801.050374552338,1915.9448761062756\n",
      "33000,5734.598390218811,2382.769570444102\n",
      "34000,3306.3290616517056,3443.87002840409\n",
      "35000,4334.739406859572,2992.463354222499\n",
      "36000,3962.0508475979595,3158.9875461806996\n",
      "37000,3915.0205847568345,3180.394006132416\n",
      "38000,5708.070101253996,2393.0520248692646\n",
      "39000,5161.088044802182,2630.02368290207\n",
      "40000,5787.517132253287,2350.1756024664965\n",
      "41000,5726.596392409376,2377.8196512012387\n",
      "42000,5051.122887987487,2674.2020224919374\n",
      "43000,4542.488722700984,2896.051800865734\n",
      "44000,4973.225133029655,2707.4135813666144\n",
      "45000,4525.247257033748,2905.2261002892506\n",
      "46000,4105.294874441926,3089.202298385038\n",
      "47000,4465.980991081142,2931.1493489669924\n",
      "48000,5017.039305122013,2690.693956429358\n",
      "49000,4404.696677431714,2956.280834952621\n",
      "50000,5051.8145684667,2676.243925964183\n",
      "51000,4688.5930960807345,2834.6462025808505\n",
      "52000,5120.386279466213,2647.720569074655\n",
      "53000,5470.277510910177,2494.205311535124\n",
      "54000,4547.998453581436,2898.485319511291\n",
      "55000,5622.661069048181,2430.389460813215\n",
      "56000,4902.905361502074,2742.3327664613603\n",
      "57000,4463.399592744039,2933.2641034392213\n",
      "58000,5851.637262565642,2323.594415262561\n",
      "59000,5299.51624184464,2568.1341390582093\n",
      "60000,4658.315720461324,2854.8195788584144\n",
      "61000,5422.294876908865,2520.859225062701\n",
      "62000,5532.929329651814,2473.677022065101\n",
      "63000,3890.1911284009598,3189.1400844523555\n",
      "64000,5143.937322508308,2641.0351791413277\n",
      "65000,4342.477056899161,2991.867368301233\n",
      "66000,5193.213945999857,2617.3068495874477\n",
      "67000,4949.080926331627,2724.004810812349\n",
      "68000,4977.180460219202,2711.4018527410735\n",
      "69000,4397.438527016496,2966.918854437127\n",
      "70000,5132.075773103914,2649.553623370988\n",
      "71000,5818.6699418664875,2345.402748773346\n",
      "72000,4425.8621317998695,2956.026854989243\n",
      "73000,3952.345825563964,3165.812988513127\n",
      "74000,5264.0942696569,2593.4570485853837\n",
      "75000,4362.34955259471,3004.3583578571875\n",
      "76000,4823.533048770081,2803.800796307699\n",
      "77000,5002.966144825319,2731.6535899208593\n",
      "78000,4541.828340846137,2929.1363959626465\n",
      "79000,4929.512960993595,2755.292098059302\n",
      "80000,3931.439902050836,3192.0943185159267\n",
      "81000,6057.5199508573,2262.833062048341\n",
      "82000,4986.16833190374,2737.3518787989196\n",
      "83000,4916.164237206771,2769.69946531495\n",
      "84000,3960.4646844403396,3190.092339211906\n",
      "85000,4727.409371381497,2858.878174260692\n",
      "86000,4464.905250725401,2977.0459621262653\n",
      "87000,4249.857801552349,3074.147638461893\n",
      "88000,4566.740626552426,2930.322392566202\n",
      "89000,4462.863243381451,2979.247225685484\n",
      "90000,3746.49707687391,3292.9000357910363\n",
      "91000,5047.672254287439,2722.762517710829\n",
      "92000,4043.897196009184,3164.065235917669\n",
      "93000,4782.759116076832,2839.464540344355\n",
      "94000,5490.810506268585,2529.995443100707\n",
      "95000,5046.926122568679,2724.965357938643\n",
      "96000,5434.063995433662,2558.1865199666577\n",
      "97000,4313.062398374881,3052.351203927106\n",
      "98000,4495.200578222589,2975.0826186474665\n",
      "99000,5205.269496035271,2664.9001976095287\n",
      "100000,5277.897345295669,2632.711270532364\n"
     ]
    }
   ],
   "source": [
    "# # prepare pdb\n",
    "# prepare_pdb('1r69.pdb', ['A'])\n",
    "\n",
    "# build OpenMMAWSEM simulation object\n",
    "oa = OpenMMAWSEMSystem('1r69-openmmawsem.pdb')\n",
    "\n",
    "# setup hamiltonian\n",
    "apply_con_term(oa)\n",
    "apply_chain_term(oa)\n",
    "apply_chi_term(oa)\n",
    "apply_excl_term(oa)\n",
    "apply_rama_term(oa)\n",
    "apply_contact_term(oa)\n",
    "\n",
    "# setup simulation parameters\n",
    "reporter_frequency = 1000\n",
    "num_steps = 100000\n",
    "step_size = 2*femtoseconds\n",
    "temperature = 100*kelvin\n",
    "#platform = Platform.getPlatformByName('Reference') # OpenCL, CUDA, CPU, or Reference\n",
    "\n",
    "# start simulation\n",
    "integrator = VerletIntegrator(step_size)\n",
    "#integrator = LangevinIntegrator(temperature, 1/picosecond, step_size)\n",
    "#simulation = Simulation(oa.pdb.topology, oa.system, integrator, platform)\n",
    "simulation = Simulation(oa.pdb.topology, oa.system, integrator)\n",
    "simulation.context.setPositions(oa.pdb.positions)\n",
    "simulation.context.setVelocitiesToTemperature(temperature, 1)\n",
    "simulation.minimizeEnergy(tolerance=Quantity(value=.0001, unit=kilojoule/mole))\n",
    "simulation.reporters.append(PDBReporter('output.pdb', reporter_frequency))\n",
    "simulation.reporters.append(StateDataReporter(stdout, reporter_frequency, step=True,\n",
    "        potentialEnergy=True, temperature=True))\n",
    "simulation.step(num_steps)"
   ]
  },
  {
   "cell_type": "code",
   "execution_count": 71,
   "metadata": {
    "ExecuteTime": {
     "end_time": "2017-07-22T13:58:31.609143",
     "start_time": "2017-07-22T13:58:31.604125"
    },
    "collapsed": true,
    "run_control": {
     "frozen": false,
     "read_only": false
    }
   },
   "outputs": [],
   "source": [
    "from openmmawsem import *"
   ]
  },
  {
   "cell_type": "code",
   "execution_count": 22,
   "metadata": {
    "ExecuteTime": {
     "end_time": "2017-07-24T15:41:40.956830",
     "start_time": "2017-07-24T15:41:34.295669"
    },
    "code_folding": [],
    "run_control": {
     "frozen": false,
     "read_only": false
    }
   },
   "outputs": [
    {
     "name": "stdout",
     "output_type": "stream",
     "text": [
      "2\n",
      "[3, 9, 15, 21, 27, 33, 38]\n",
      "[3, 15, 21, 27, 33, 38]\n",
      "[3, 21, 27, 33, 38]\n",
      "[3, 27, 33, 38]\n"
     ]
    },
    {
     "ename": "Exception",
     "evalue": "Particle coordinate is nan",
     "output_type": "error",
     "traceback": [
      "\u001b[0;31m---------------------------------------------------------------------------\u001b[0m",
      "\u001b[0;31mException\u001b[0m                                 Traceback (most recent call last)",
      "\u001b[0;32m<ipython-input-22-a2c28e3691b3>\u001b[0m in \u001b[0;36m<module>\u001b[0;34m()\u001b[0m\n\u001b[1;32m     43\u001b[0m simulation.reporters.append(StateDataReporter(stdout, reporter_frequency, step=True,\n\u001b[1;32m     44\u001b[0m         potentialEnergy=True, temperature=True))\n\u001b[0;32m---> 45\u001b[0;31m \u001b[0msimulation\u001b[0m\u001b[1;33m.\u001b[0m\u001b[0mstep\u001b[0m\u001b[1;33m(\u001b[0m\u001b[0mnum_steps\u001b[0m\u001b[1;33m)\u001b[0m\u001b[1;33m\u001b[0m\u001b[0m\n\u001b[0m",
      "\u001b[0;32mC:\\Users\\Dell\\Anaconda3\\lib\\site-packages\\simtk\\openmm\\app\\simulation.py\u001b[0m in \u001b[0;36mstep\u001b[0;34m(self, steps)\u001b[0m\n\u001b[1;32m    130\u001b[0m     \u001b[1;32mdef\u001b[0m \u001b[0mstep\u001b[0m\u001b[1;33m(\u001b[0m\u001b[0mself\u001b[0m\u001b[1;33m,\u001b[0m \u001b[0msteps\u001b[0m\u001b[1;33m)\u001b[0m\u001b[1;33m:\u001b[0m\u001b[1;33m\u001b[0m\u001b[0m\n\u001b[1;32m    131\u001b[0m         \u001b[1;34m\"\"\"Advance the simulation by integrating a specified number of time steps.\"\"\"\u001b[0m\u001b[1;33m\u001b[0m\u001b[0m\n\u001b[0;32m--> 132\u001b[0;31m         \u001b[0mself\u001b[0m\u001b[1;33m.\u001b[0m\u001b[0m_simulate\u001b[0m\u001b[1;33m(\u001b[0m\u001b[0mendStep\u001b[0m\u001b[1;33m=\u001b[0m\u001b[0mself\u001b[0m\u001b[1;33m.\u001b[0m\u001b[0mcurrentStep\u001b[0m\u001b[1;33m+\u001b[0m\u001b[0msteps\u001b[0m\u001b[1;33m)\u001b[0m\u001b[1;33m\u001b[0m\u001b[0m\n\u001b[0m\u001b[1;32m    133\u001b[0m \u001b[1;33m\u001b[0m\u001b[0m\n\u001b[1;32m    134\u001b[0m     \u001b[1;32mdef\u001b[0m \u001b[0mrunForClockTime\u001b[0m\u001b[1;33m(\u001b[0m\u001b[0mself\u001b[0m\u001b[1;33m,\u001b[0m \u001b[0mtime\u001b[0m\u001b[1;33m,\u001b[0m \u001b[0mcheckpointFile\u001b[0m\u001b[1;33m=\u001b[0m\u001b[1;32mNone\u001b[0m\u001b[1;33m,\u001b[0m \u001b[0mstateFile\u001b[0m\u001b[1;33m=\u001b[0m\u001b[1;32mNone\u001b[0m\u001b[1;33m,\u001b[0m \u001b[0mcheckpointInterval\u001b[0m\u001b[1;33m=\u001b[0m\u001b[1;32mNone\u001b[0m\u001b[1;33m)\u001b[0m\u001b[1;33m:\u001b[0m\u001b[1;33m\u001b[0m\u001b[0m\n",
      "\u001b[0;32mC:\\Users\\Dell\\Anaconda3\\lib\\site-packages\\simtk\\openmm\\app\\simulation.py\u001b[0m in \u001b[0;36m_simulate\u001b[0;34m(self, endStep, endTime)\u001b[0m\n\u001b[1;32m    192\u001b[0m             \u001b[0mstepsToGo\u001b[0m \u001b[1;33m=\u001b[0m \u001b[0mnextSteps\u001b[0m\u001b[1;33m\u001b[0m\u001b[0m\n\u001b[1;32m    193\u001b[0m             \u001b[1;32mwhile\u001b[0m \u001b[0mstepsToGo\u001b[0m \u001b[1;33m>\u001b[0m \u001b[1;36m10\u001b[0m\u001b[1;33m:\u001b[0m\u001b[1;33m\u001b[0m\u001b[0m\n\u001b[0;32m--> 194\u001b[0;31m                 \u001b[0mself\u001b[0m\u001b[1;33m.\u001b[0m\u001b[0mintegrator\u001b[0m\u001b[1;33m.\u001b[0m\u001b[0mstep\u001b[0m\u001b[1;33m(\u001b[0m\u001b[1;36m10\u001b[0m\u001b[1;33m)\u001b[0m \u001b[1;31m# Only take 10 steps at a time, to give Python more chances to respond to a control-c.\u001b[0m\u001b[1;33m\u001b[0m\u001b[0m\n\u001b[0m\u001b[1;32m    195\u001b[0m                 \u001b[0mstepsToGo\u001b[0m \u001b[1;33m-=\u001b[0m \u001b[1;36m10\u001b[0m\u001b[1;33m\u001b[0m\u001b[0m\n\u001b[1;32m    196\u001b[0m                 \u001b[1;32mif\u001b[0m \u001b[0mendTime\u001b[0m \u001b[1;32mis\u001b[0m \u001b[1;32mnot\u001b[0m \u001b[1;32mNone\u001b[0m \u001b[1;32mand\u001b[0m \u001b[0mdatetime\u001b[0m\u001b[1;33m.\u001b[0m\u001b[0mnow\u001b[0m\u001b[1;33m(\u001b[0m\u001b[1;33m)\u001b[0m \u001b[1;33m>=\u001b[0m \u001b[0mendTime\u001b[0m\u001b[1;33m:\u001b[0m\u001b[1;33m\u001b[0m\u001b[0m\n",
      "\u001b[0;32mC:\\Users\\Dell\\Anaconda3\\lib\\site-packages\\simtk\\openmm\\openmm.py\u001b[0m in \u001b[0;36mstep\u001b[0;34m(self, steps)\u001b[0m\n\u001b[1;32m  14644\u001b[0m             \u001b[0mthe\u001b[0m \u001b[0mnumber\u001b[0m \u001b[0mof\u001b[0m \u001b[0mtime\u001b[0m \u001b[0msteps\u001b[0m \u001b[0mto\u001b[0m \u001b[0mtake\u001b[0m\u001b[1;33m\u001b[0m\u001b[0m\n\u001b[1;32m  14645\u001b[0m         \"\"\"\n\u001b[0;32m> 14646\u001b[0;31m         \u001b[1;32mreturn\u001b[0m \u001b[0m_openmm\u001b[0m\u001b[1;33m.\u001b[0m\u001b[0mLangevinIntegrator_step\u001b[0m\u001b[1;33m(\u001b[0m\u001b[0mself\u001b[0m\u001b[1;33m,\u001b[0m \u001b[0msteps\u001b[0m\u001b[1;33m)\u001b[0m\u001b[1;33m\u001b[0m\u001b[0m\n\u001b[0m\u001b[1;32m  14647\u001b[0m \u001b[1;33m\u001b[0m\u001b[0m\n\u001b[1;32m  14648\u001b[0m \u001b[1;33m\u001b[0m\u001b[0m\n",
      "\u001b[0;31mException\u001b[0m: Particle coordinate is nan"
     ]
    }
   ],
   "source": [
    "pdb_id = '1R69'\n",
    "chain_id = 'A'\n",
    "\n",
    "# pdb_id = pdb_id.lower()\n",
    "# pdbl = PDBList()\n",
    "# pdbl.retrieve_pdb_file(pdb_id, pdir='.')\n",
    "\n",
    "# os.rename(\"pdb%s.ent\" % pdb_id, \"%s.pdb\" % pdb_id)\n",
    "\n",
    "# # prepare pdb\n",
    "res_names = prepare_pdb(\"%s.pdb\" % pdb_id, [chain_id])\n",
    "\n",
    "# build OpenMMAWSEM simulation object\n",
    "oa = OpenMMAWSEMSystem(\"%s-openmmawsem.pdb\" % pdb_id, res_names)\n",
    "\n",
    "# setup hamiltonian\n",
    "apply_con_term(oa)\n",
    "apply_chain_term(oa)\n",
    "apply_chi_term(oa)\n",
    "apply_excl_term(oa)\n",
    "apply_rama_term(oa)\n",
    "apply_contact_term(oa)\n",
    "apply_beta_term(oa)\n",
    "apply_pap_term(oa)\n",
    "apply_helix_term(oa)\n",
    "\n",
    "# setup simulation parameters\n",
    "reporter_frequency = 1000\n",
    "num_steps = 100000\n",
    "step_size = 2*femtoseconds\n",
    "temperature = 10*kelvin\n",
    "platform = Platform.getPlatformByName('CPU') # OpenCL, CUDA, CPU, or Reference\n",
    "\n",
    "# start simulation\n",
    "#integrator = VerletIntegrator(step_size)\n",
    "integrator = LangevinIntegrator(temperature, 1/picosecond, step_size)\n",
    "simulation = Simulation(oa.pdb.topology, oa.system, integrator, platform)\n",
    "#simulation = Simulation(oa.pdb.topology, oa.system, integrator)\n",
    "simulation.context.setPositions(oa.pdb.positions)\n",
    "simulation.context.setVelocitiesToTemperature(temperature, 1)\n",
    "#simulation.minimizeEnergy(tolerance=Quantity(value=.0001, unit=kilojoule/mole))\n",
    "simulation.reporters.append(PDBReporter('output.pdb', reporter_frequency))\n",
    "simulation.reporters.append(StateDataReporter(stdout, reporter_frequency, step=True,\n",
    "        potentialEnergy=True, temperature=True))\n",
    "simulation.step(num_steps)"
   ]
  },
  {
   "cell_type": "code",
   "execution_count": 15,
   "metadata": {
    "ExecuteTime": {
     "end_time": "2017-07-24T15:38:02.658726",
     "start_time": "2017-07-24T15:37:12.105144"
    },
    "run_control": {
     "frozen": false,
     "read_only": false
    }
   },
   "outputs": [
    {
     "name": "stdout",
     "output_type": "stream",
     "text": [
      "> \u001b[0;32mc:\\users\\dell\\onedrive\\research\\repositories\\openmmawsem\\openmmawsem\\openmmawsem.py\u001b[0m(807)\u001b[0;36mapply_helix_term\u001b[0;34m()\u001b[0m\n",
      "\u001b[0;32m    805 \u001b[0;31m                \u001b[1;32mdel\u001b[0m \u001b[0mother_cb_with_gly_ca\u001b[0m\u001b[1;33m[\u001b[0m\u001b[0mi\u001b[0m\u001b[1;33m-\u001b[0m\u001b[1;36m1\u001b[0m\u001b[1;33m]\u001b[0m\u001b[1;33m\u001b[0m\u001b[0m\n",
      "\u001b[0m\u001b[0;32m    806 \u001b[0;31m                \u001b[1;32mdel\u001b[0m \u001b[0mother_cb_with_gly_ca\u001b[0m\u001b[1;33m[\u001b[0m\u001b[0mi\u001b[0m\u001b[1;33m-\u001b[0m\u001b[1;36m1\u001b[0m\u001b[1;33m]\u001b[0m\u001b[1;33m\u001b[0m\u001b[0m\n",
      "\u001b[0m\u001b[0;32m--> 807 \u001b[0;31m                \u001b[1;32mif\u001b[0m \u001b[0mres_names\u001b[0m\u001b[1;33m[\u001b[0m\u001b[0mi\u001b[0m\u001b[1;33m+\u001b[0m\u001b[1;36m4\u001b[0m\u001b[1;33m]\u001b[0m \u001b[1;33m==\u001b[0m \u001b[1;34m\"PRO\"\u001b[0m\u001b[1;33m:\u001b[0m\u001b[1;33m\u001b[0m\u001b[0m\n",
      "\u001b[0m\u001b[0;32m    808 \u001b[0;31m                        \u001b[1;32mcontinue\u001b[0m\u001b[1;33m\u001b[0m\u001b[0m\n",
      "\u001b[0m\u001b[0;32m    809 \u001b[0;31m                \u001b[0mfai\u001b[0m \u001b[1;33m=\u001b[0m \u001b[0mhelix_frequencies\u001b[0m\u001b[1;33m[\u001b[0m\u001b[0mres_names\u001b[0m\u001b[1;33m[\u001b[0m\u001b[0mi\u001b[0m\u001b[1;33m]\u001b[0m\u001b[1;33m]\u001b[0m\u001b[1;33m\u001b[0m\u001b[0m\n",
      "\u001b[0m\n",
      "ipdb> i\n",
      "2\n",
      "ipdb> exit\n"
     ]
    }
   ],
   "source": [
    "%debug"
   ]
  },
  {
   "cell_type": "code",
   "execution_count": 27,
   "metadata": {
    "ExecuteTime": {
     "end_time": "2017-07-24T13:23:04.273883",
     "start_time": "2017-07-24T13:23:04.268878"
    },
    "collapsed": true,
    "run_control": {
     "frozen": false,
     "read_only": false
    }
   },
   "outputs": [],
   "source": [
    "from openmmawsem import *"
   ]
  },
  {
   "cell_type": "code",
   "execution_count": 36,
   "metadata": {
    "collapsed": true
   },
   "outputs": [],
   "source": [
    "#for i in range(oa.system.getNumParticles()):\n",
    "#    print (oa.system.isVirtualSite(i), oa.system.getParticleMass(i))"
   ]
  },
  {
   "cell_type": "code",
   "execution_count": 29,
   "metadata": {
    "ExecuteTime": {
     "end_time": "2017-07-24T15:11:36.844657",
     "start_time": "2017-07-24T15:11:28.367469"
    },
    "run_control": {
     "frozen": false,
     "read_only": false
    }
   },
   "outputs": [
    {
     "ename": "Exception",
     "evalue": "Particle coordinate is nan",
     "output_type": "error",
     "traceback": [
      "\u001b[0;31m---------------------------------------------------------------------------\u001b[0m",
      "\u001b[0;31mException\u001b[0m                                 Traceback (most recent call last)",
      "\u001b[0;32m<ipython-input-29-35564a4d8279>\u001b[0m in \u001b[0;36m<module>\u001b[0;34m()\u001b[0m\n\u001b[1;32m     44\u001b[0m simulation.reporters.append(StateDataReporter(stdout, reporter_frequency, step=True,\n\u001b[1;32m     45\u001b[0m         potentialEnergy=True, temperature=True))\n\u001b[0;32m---> 46\u001b[0;31m \u001b[0msimulation\u001b[0m\u001b[1;33m.\u001b[0m\u001b[0mstep\u001b[0m\u001b[1;33m(\u001b[0m\u001b[0mnum_steps\u001b[0m\u001b[1;33m)\u001b[0m\u001b[1;33m\u001b[0m\u001b[0m\n\u001b[0m",
      "\u001b[0;32mC:\\Users\\Dell\\Anaconda3\\lib\\site-packages\\simtk\\openmm\\app\\simulation.py\u001b[0m in \u001b[0;36mstep\u001b[0;34m(self, steps)\u001b[0m\n\u001b[1;32m    130\u001b[0m     \u001b[1;32mdef\u001b[0m \u001b[0mstep\u001b[0m\u001b[1;33m(\u001b[0m\u001b[0mself\u001b[0m\u001b[1;33m,\u001b[0m \u001b[0msteps\u001b[0m\u001b[1;33m)\u001b[0m\u001b[1;33m:\u001b[0m\u001b[1;33m\u001b[0m\u001b[0m\n\u001b[1;32m    131\u001b[0m         \u001b[1;34m\"\"\"Advance the simulation by integrating a specified number of time steps.\"\"\"\u001b[0m\u001b[1;33m\u001b[0m\u001b[0m\n\u001b[0;32m--> 132\u001b[0;31m         \u001b[0mself\u001b[0m\u001b[1;33m.\u001b[0m\u001b[0m_simulate\u001b[0m\u001b[1;33m(\u001b[0m\u001b[0mendStep\u001b[0m\u001b[1;33m=\u001b[0m\u001b[0mself\u001b[0m\u001b[1;33m.\u001b[0m\u001b[0mcurrentStep\u001b[0m\u001b[1;33m+\u001b[0m\u001b[0msteps\u001b[0m\u001b[1;33m)\u001b[0m\u001b[1;33m\u001b[0m\u001b[0m\n\u001b[0m\u001b[1;32m    133\u001b[0m \u001b[1;33m\u001b[0m\u001b[0m\n\u001b[1;32m    134\u001b[0m     \u001b[1;32mdef\u001b[0m \u001b[0mrunForClockTime\u001b[0m\u001b[1;33m(\u001b[0m\u001b[0mself\u001b[0m\u001b[1;33m,\u001b[0m \u001b[0mtime\u001b[0m\u001b[1;33m,\u001b[0m \u001b[0mcheckpointFile\u001b[0m\u001b[1;33m=\u001b[0m\u001b[1;32mNone\u001b[0m\u001b[1;33m,\u001b[0m \u001b[0mstateFile\u001b[0m\u001b[1;33m=\u001b[0m\u001b[1;32mNone\u001b[0m\u001b[1;33m,\u001b[0m \u001b[0mcheckpointInterval\u001b[0m\u001b[1;33m=\u001b[0m\u001b[1;32mNone\u001b[0m\u001b[1;33m)\u001b[0m\u001b[1;33m:\u001b[0m\u001b[1;33m\u001b[0m\u001b[0m\n",
      "\u001b[0;32mC:\\Users\\Dell\\Anaconda3\\lib\\site-packages\\simtk\\openmm\\app\\simulation.py\u001b[0m in \u001b[0;36m_simulate\u001b[0;34m(self, endStep, endTime)\u001b[0m\n\u001b[1;32m    214\u001b[0m                             \u001b[0mgetEnergy\u001b[0m \u001b[1;33m=\u001b[0m \u001b[1;32mTrue\u001b[0m\u001b[1;33m\u001b[0m\u001b[0m\n\u001b[1;32m    215\u001b[0m                 state = self.context.getState(getPositions=getPositions, getVelocities=getVelocities, getForces=getForces,\n\u001b[0;32m--> 216\u001b[0;31m                                               getEnergy=getEnergy, getParameters=True, enforcePeriodicBox=self._usesPBC)\n\u001b[0m\u001b[1;32m    217\u001b[0m                 \u001b[1;32mfor\u001b[0m \u001b[0mreporter\u001b[0m\u001b[1;33m,\u001b[0m \u001b[0mnext\u001b[0m \u001b[1;32min\u001b[0m \u001b[0mzip\u001b[0m\u001b[1;33m(\u001b[0m\u001b[0mself\u001b[0m\u001b[1;33m.\u001b[0m\u001b[0mreporters\u001b[0m\u001b[1;33m,\u001b[0m \u001b[0mnextReport\u001b[0m\u001b[1;33m)\u001b[0m\u001b[1;33m:\u001b[0m\u001b[1;33m\u001b[0m\u001b[0m\n\u001b[1;32m    218\u001b[0m                     \u001b[1;32mif\u001b[0m \u001b[0mnext\u001b[0m\u001b[1;33m[\u001b[0m\u001b[1;36m0\u001b[0m\u001b[1;33m]\u001b[0m \u001b[1;33m==\u001b[0m \u001b[0mnextSteps\u001b[0m\u001b[1;33m:\u001b[0m\u001b[1;33m\u001b[0m\u001b[0m\n",
      "\u001b[0;32mC:\\Users\\Dell\\Anaconda3\\lib\\site-packages\\simtk\\openmm\\openmm.py\u001b[0m in \u001b[0;36mgetState\u001b[0;34m(self, getPositions, getVelocities, getForces, getEnergy, getParameters, getParameterDerivatives, enforcePeriodicBox, groups)\u001b[0m\n\u001b[1;32m   6382\u001b[0m         (simTime, periodicBoxVectorsList, energy, coordList, velList,\n\u001b[1;32m   6383\u001b[0m          forceList, paramMap, paramDerivMap) = \\\n\u001b[0;32m-> 6384\u001b[0;31m             \u001b[0mself\u001b[0m\u001b[1;33m.\u001b[0m\u001b[0m_getStateAsLists\u001b[0m\u001b[1;33m(\u001b[0m\u001b[0mgetP\u001b[0m\u001b[1;33m,\u001b[0m \u001b[0mgetV\u001b[0m\u001b[1;33m,\u001b[0m \u001b[0mgetF\u001b[0m\u001b[1;33m,\u001b[0m \u001b[0mgetE\u001b[0m\u001b[1;33m,\u001b[0m \u001b[0mgetPa\u001b[0m\u001b[1;33m,\u001b[0m \u001b[0mgetPd\u001b[0m\u001b[1;33m,\u001b[0m \u001b[0menforcePeriodic\u001b[0m\u001b[1;33m,\u001b[0m \u001b[0mgroups_mask\u001b[0m\u001b[1;33m)\u001b[0m\u001b[1;33m\u001b[0m\u001b[0m\n\u001b[0m\u001b[1;32m   6385\u001b[0m \u001b[1;33m\u001b[0m\u001b[0m\n\u001b[1;32m   6386\u001b[0m         state = State(simTime=simTime,\n",
      "\u001b[0;32mC:\\Users\\Dell\\Anaconda3\\lib\\site-packages\\simtk\\openmm\\openmm.py\u001b[0m in \u001b[0;36m_getStateAsLists\u001b[0;34m(self, getPositions, getVelocities, getForces, getEnergy, getParameters, getParameterDerivatives, enforcePeriodic, groups)\u001b[0m\n\u001b[1;32m   6332\u001b[0m     \u001b[1;32mdef\u001b[0m \u001b[0m_getStateAsLists\u001b[0m\u001b[1;33m(\u001b[0m\u001b[0mself\u001b[0m\u001b[1;33m,\u001b[0m \u001b[0mgetPositions\u001b[0m\u001b[1;33m,\u001b[0m \u001b[0mgetVelocities\u001b[0m\u001b[1;33m,\u001b[0m \u001b[0mgetForces\u001b[0m\u001b[1;33m,\u001b[0m \u001b[0mgetEnergy\u001b[0m\u001b[1;33m,\u001b[0m \u001b[0mgetParameters\u001b[0m\u001b[1;33m,\u001b[0m \u001b[0mgetParameterDerivatives\u001b[0m\u001b[1;33m,\u001b[0m \u001b[0menforcePeriodic\u001b[0m\u001b[1;33m,\u001b[0m \u001b[0mgroups\u001b[0m\u001b[1;33m)\u001b[0m\u001b[1;33m:\u001b[0m\u001b[1;33m\u001b[0m\u001b[0m\n\u001b[1;32m   6333\u001b[0m         \u001b[1;34m\"\"\"_getStateAsLists(self, getPositions, getVelocities, getForces, getEnergy, getParameters, getParameterDerivatives, enforcePeriodic, groups) -> PyObject *\"\"\"\u001b[0m\u001b[1;33m\u001b[0m\u001b[0m\n\u001b[0;32m-> 6334\u001b[0;31m         \u001b[1;32mreturn\u001b[0m \u001b[0m_openmm\u001b[0m\u001b[1;33m.\u001b[0m\u001b[0mContext__getStateAsLists\u001b[0m\u001b[1;33m(\u001b[0m\u001b[0mself\u001b[0m\u001b[1;33m,\u001b[0m \u001b[0mgetPositions\u001b[0m\u001b[1;33m,\u001b[0m \u001b[0mgetVelocities\u001b[0m\u001b[1;33m,\u001b[0m \u001b[0mgetForces\u001b[0m\u001b[1;33m,\u001b[0m \u001b[0mgetEnergy\u001b[0m\u001b[1;33m,\u001b[0m \u001b[0mgetParameters\u001b[0m\u001b[1;33m,\u001b[0m \u001b[0mgetParameterDerivatives\u001b[0m\u001b[1;33m,\u001b[0m \u001b[0menforcePeriodic\u001b[0m\u001b[1;33m,\u001b[0m \u001b[0mgroups\u001b[0m\u001b[1;33m)\u001b[0m\u001b[1;33m\u001b[0m\u001b[0m\n\u001b[0m\u001b[1;32m   6335\u001b[0m \u001b[1;33m\u001b[0m\u001b[0m\n\u001b[1;32m   6336\u001b[0m \u001b[1;33m\u001b[0m\u001b[0m\n",
      "\u001b[0;31mException\u001b[0m: Particle coordinate is nan"
     ]
    }
   ],
   "source": [
    "pdb_id = '1R69'\n",
    "chain_id = 'A'\n",
    "\n",
    "# pdb_id = pdb_id.lower()\n",
    "# pdbl = PDBList()\n",
    "# pdbl.retrieve_pdb_file(pdb_id, pdir='.')\n",
    "\n",
    "# os.rename(\"pdb%s.ent\" % pdb_id, \"%s.pdb\" % pdb_id)\n",
    "\n",
    "# # prepare pdb\n",
    "res_names = prepare_pdb(\"%s.pdb\" % pdb_id, [chain_id])\n",
    "\n",
    "# build OpenMMAWSEM simulation object\n",
    "oa = OpenMMAWSEMSystem(\"%s-openmmawsem.pdb\" % pdb_id, res_names)\n",
    "\n",
    "# setup hamiltonian\n",
    "apply_con_term(oa)\n",
    "apply_chain_term(oa)\n",
    "#apply_chi_term(oa)\n",
    "#apply_excl_term(oa)\n",
    "#apply_rama_term(oa)\n",
    "#apply_contact_term(oa)\n",
    "#apply_beta_term(oa)\n",
    "#apply_pap_term(oa)\n",
    "#apply_dsb_term(oa)\n",
    "apply_helix_term(oa)\n",
    "\n",
    "# setup simulation parameters\n",
    "reporter_frequency = 1\n",
    "num_steps = 1\n",
    "step_size = 2*femtoseconds\n",
    "temperature = 10*kelvin\n",
    "platform = Platform.getPlatformByName('CPU') # OpenCL, CUDA, CPU, or Reference\n",
    "\n",
    "# start simulation\n",
    "#integrator = VerletIntegrator(step_size)\n",
    "integrator = LangevinIntegrator(temperature, 1/picosecond, step_size)\n",
    "simulation = Simulation(oa.pdb.topology, oa.system, integrator, platform)\n",
    "#simulation = Simulation(oa.pdb.topology, oa.system, integrator)\n",
    "simulation.context.setPositions(oa.pdb.positions)\n",
    "simulation.context.setVelocitiesToTemperature(temperature, 1)\n",
    "#simulation.minimizeEnergy(tolerance=Quantity(value=.0001, unit=kilojoule/mole))\n",
    "simulation.reporters.append(PDBReporter('output.pdb', reporter_frequency))\n",
    "simulation.reporters.append(StateDataReporter(stdout, reporter_frequency, step=True,\n",
    "        potentialEnergy=True, temperature=True))\n",
    "simulation.step(num_steps)"
   ]
  },
  {
   "cell_type": "code",
   "execution_count": 3,
   "metadata": {
    "ExecuteTime": {
     "end_time": "2017-07-27T09:32:19.233988",
     "start_time": "2017-07-27T09:32:19.228484"
    },
    "collapsed": true,
    "run_control": {
     "frozen": false,
     "read_only": false
    }
   },
   "outputs": [],
   "source": [
    "from openmmawsem import *"
   ]
  },
  {
   "cell_type": "code",
   "execution_count": 2,
   "metadata": {
    "ExecuteTime": {
     "end_time": "2017-08-04T15:03:53.035526",
     "start_time": "2017-08-04T15:02:33.888241"
    },
    "run_control": {
     "frozen": false,
     "read_only": false
    }
   },
   "outputs": [
    {
     "name": "stdout",
     "output_type": "stream",
     "text": [
      "#\"Step\",\"Potential Energy (kJ/mole)\",\"Temperature (K)\"\n",
      "1000,-4238.491079688072,44.08258503062771\n",
      "2000,-4219.962238818407,47.502738678365155\n",
      "3000,-4216.182186037302,52.065080977822\n",
      "4000,-4215.22731038928,49.37914019576216\n",
      "5000,-4225.358080804348,48.80358105752544\n",
      "6000,-4228.538562387228,51.93735718506211\n",
      "7000,-4223.73433727026,44.19495335471884\n",
      "8000,-4207.357366472483,52.465863653692324\n",
      "9000,-4227.241860866547,47.95444917595709\n",
      "10000,-4210.652197688818,49.66502457757011\n",
      "11000,-4218.463583409786,52.438772610789584\n",
      "12000,-4216.093226343393,47.21614784707364\n",
      "13000,-4229.783365815878,48.031207781430425\n",
      "14000,-4210.9359820485115,49.255546756128474\n",
      "15000,-4214.126323312521,48.4558478365759\n",
      "16000,-4224.059704184532,50.341343229202046\n",
      "17000,-4212.285930633545,46.81151247333156\n",
      "18000,-4218.703988671303,48.875670732261206\n",
      "19000,-4216.946358323097,49.34610895106211\n",
      "20000,-4215.972053706646,48.663342880154964\n",
      "21000,-4215.1729456186295,46.556496920398025\n",
      "22000,-4213.550024867058,47.50746329409901\n",
      "23000,-4217.969818800688,49.15863204994045\n",
      "24000,-4200.854882031679,48.24810482281871\n",
      "25000,-4221.937653839588,51.24166420338243\n",
      "26000,-4220.941870510578,47.20397978771585\n",
      "27000,-4209.115673422813,48.549109498830944\n",
      "28000,-4190.6706165373325,53.59238346080986\n",
      "29000,-4211.906219869852,51.921872233319824\n",
      "30000,-4222.185990691185,51.65076441426564\n",
      "31000,-4214.034982264042,49.30208784648773\n",
      "32000,-4215.788307100534,52.59183474686799\n",
      "33000,-4213.8448050022125,52.65303546594938\n",
      "34000,-4206.100077569485,48.33132049286051\n",
      "35000,-4220.55544513464,48.584304273358015\n",
      "36000,-4224.098169952631,51.43126416670076\n",
      "37000,-4213.465784013271,52.072675405154136\n",
      "38000,-4209.973557442427,48.02987708189109\n",
      "39000,-4196.675025045872,49.161352571887946\n",
      "40000,-4219.951074868441,52.20814380569001\n",
      "41000,-4218.944473385811,55.27982780306982\n",
      "42000,-4209.375303953886,53.60414155225579\n",
      "43000,-4211.9264934659,44.83085121875911\n",
      "44000,-4209.721305400133,51.64323100727719\n",
      "45000,-4209.661051630974,55.678711602380034\n",
      "46000,-4216.315971106291,48.495854166891355\n",
      "47000,-4225.371043920517,47.5639554327415\n",
      "48000,-4207.384486109018,51.875322890373056\n",
      "49000,-4209.498456001282,52.88765016696442\n",
      "50000,-4215.213719278574,54.838355838955565\n",
      "51000,-4206.726050883532,50.13526699818278\n",
      "52000,-4213.984597176313,46.838877910280296\n",
      "53000,-4228.454544365406,48.468880002524195\n",
      "54000,-4217.132463365793,50.6955170513966\n",
      "55000,-4211.2724022865295,49.34570370470023\n",
      "56000,-4212.9995104670525,48.36132821376682\n",
      "57000,-4216.475568056107,49.966119699884814\n",
      "58000,-4229.252846121788,49.091128328600774\n",
      "59000,-4210.45146214962,54.698411955220344\n",
      "60000,-4221.477631926537,44.73562450275321\n",
      "61000,-4212.894359141588,45.10232444822036\n",
      "62000,-4211.596937805414,52.58129858955913\n",
      "63000,-4207.6984441280365,49.744630604667705\n",
      "64000,-4219.615202695131,49.644346791641674\n",
      "65000,-4214.977365672588,52.82538184670134\n",
      "66000,-4217.960068106651,49.689281146385724\n",
      "67000,-4219.755414605141,53.61473346278331\n",
      "68000,-4215.47761785984,49.45091058574135\n",
      "69000,-4217.425513148308,49.46837732237223\n",
      "70000,-4216.416959285736,50.02148735900597\n",
      "71000,-4223.192136287689,46.39581379335936\n",
      "72000,-4215.822415500879,51.46182722953649\n",
      "73000,-4214.360795646906,44.536940547601475\n",
      "74000,-4205.243319988251,50.92513859256724\n",
      "75000,-4228.003322422504,54.093933083305714\n",
      "76000,-4209.333285987377,44.97211736602359\n",
      "77000,-4225.496689349413,50.203356242115994\n",
      "78000,-4213.678494691849,53.870909658660985\n",
      "79000,-4215.224094539881,47.68833195617636\n",
      "80000,-4213.997222453356,52.658050113166546\n",
      "81000,-4207.09908246994,49.50574304320069\n",
      "82000,-4210.381353914738,47.10458198561299\n",
      "83000,-4212.683950662613,46.67498897230091\n",
      "84000,-4197.5610646009445,53.07384520546948\n",
      "85000,-4200.95979270339,49.185008064732884\n",
      "86000,-4207.563737213612,51.69030505589126\n",
      "87000,-4211.677803426981,49.56292668861008\n",
      "88000,-4208.541844129562,54.66167974861369\n",
      "89000,-4202.805691361427,53.53209626101313\n",
      "90000,-4211.562426269054,47.17550410291944\n",
      "91000,-4219.63061824441,48.130338269822985\n",
      "92000,-4219.966245979071,53.905036178907764\n",
      "93000,-4220.970618247986,50.27107933787128\n",
      "94000,-4214.337739557028,54.81444402275843\n",
      "95000,-4220.95084515214,49.32039391593027\n",
      "96000,-4231.111155599356,48.71544019358259\n",
      "97000,-4221.921540081501,45.4200731803186\n",
      "98000,-4218.476748019457,52.59660289842864\n",
      "99000,-4212.25687623024,50.85576305327128\n",
      "100000,-4210.649644672871,54.243943751702275\n"
     ]
    }
   ],
   "source": [
    "pdb_id = '1R69'\n",
    "chain_id = 'A'\n",
    "\n",
    "# pdb_id = pdb_id.lower()\n",
    "# pdbl = PDBList()\n",
    "# pdbl.retrieve_pdb_file(pdb_id, pdir='.')\n",
    "# os.rename(\"pdb%s.ent\" % pdb_id, \"%s.pdb\" % pdb_id)\n",
    "\n",
    "# # prepare pdb\n",
    "res_names = prepare_pdb(\"%s.pdb\" % pdb_id, [chain_id])\n",
    "\n",
    "# build OpenMMAWSEM simulation object\n",
    "oa = OpenMMAWSEMSystem(\"%s-openmmawsem.pdb\" % pdb_id, res_names)\n",
    "\n",
    "# setup hamiltonian\n",
    "apply_con_term(oa)\n",
    "apply_chain_term(oa)\n",
    "apply_chi_term(oa)\n",
    "apply_excl_term(oa)\n",
    "apply_rama_term(oa)\n",
    "#apply_contact_term(oa)\n",
    "#apply_beta_term(oa)\n",
    "#apply_pap_term(oa)\n",
    "#apply_dsb_term(oa)\n",
    "#apply_helix_term(oa)\n",
    "apply_associative_memory_term(oa)\n",
    "\n",
    "# setup simulation parameters\n",
    "reporter_frequency = 1000\n",
    "num_steps = 100000\n",
    "step_size = 2*femtoseconds\n",
    "temperature = 50*kelvin\n",
    "platform = Platform.getPlatformByName('OpenCL') # OpenCL, CUDA, CPU, or Reference\n",
    "\n",
    "# start simulation\n",
    "#integrator = VerletIntegrator(step_size)\n",
    "integrator = LangevinIntegrator(temperature, 1/picosecond, step_size)\n",
    "simulation = Simulation(oa.pdb.topology, oa.system, integrator, platform)\n",
    "#simulation = Simulation(oa.pdb.topology, oa.system, integrator)\n",
    "simulation.context.setPositions(oa.pdb.positions)\n",
    "simulation.context.setVelocitiesToTemperature(temperature, 1)\n",
    "simulation.minimizeEnergy(tolerance=Quantity(value=.0001, unit=kilojoule/mole))\n",
    "simulation.reporters.append(PDBReporter('output.pdb', reporter_frequency))\n",
    "simulation.reporters.append(StateDataReporter(stdout, reporter_frequency, step=True,\n",
    "        potentialEnergy=True, temperature=True))\n",
    "simulation.step(num_steps)"
   ]
  },
  {
   "cell_type": "code",
   "execution_count": null,
   "metadata": {
    "collapsed": true,
    "run_control": {
     "frozen": false,
     "read_only": false
    }
   },
   "outputs": [],
   "source": []
  }
 ],
 "metadata": {
  "hide_input": false,
  "kernelspec": {
   "display_name": "Python 3",
   "language": "python",
   "name": "python3"
  },
  "language_info": {
   "codemirror_mode": {
    "name": "ipython",
    "version": 3
   },
   "file_extension": ".py",
   "mimetype": "text/x-python",
   "name": "python",
   "nbconvert_exporter": "python",
   "pygments_lexer": "ipython3",
   "version": "3.6.3"
  },
  "latex_envs": {
   "LaTeX_envs_menu_present": true,
   "bibliofile": "biblio.bib",
   "cite_by": "apalike",
   "current_citInitial": 1,
   "eqLabelWithNumbers": true,
   "eqNumInitial": 1,
   "hotkeys": {
    "equation": "Ctrl-E",
    "itemize": "Ctrl-I"
   },
   "labels_anchors": false,
   "latex_user_defs": false,
   "report_style_numbering": false,
   "user_envs_cfg": false
  },
  "nbTranslate": {
   "displayLangs": [
    "*"
   ],
   "hotkey": "alt-t",
   "langInMainMenu": true,
   "sourceLang": "en",
   "targetLang": "fr",
   "useGoogleTranslate": true
  },
  "toc": {
   "colors": {
    "hover_highlight": "#DAA520",
    "running_highlight": "#FF0000",
    "selected_highlight": "#FFD700"
   },
   "moveMenuLeft": true,
   "nav_menu": {
    "height": "12px",
    "width": "252px"
   },
   "navigate_menu": true,
   "number_sections": true,
   "sideBar": true,
   "threshold": 4,
   "toc_cell": false,
   "toc_section_display": "block",
   "toc_window_display": false
  }
 },
 "nbformat": 4,
 "nbformat_minor": 2
}
