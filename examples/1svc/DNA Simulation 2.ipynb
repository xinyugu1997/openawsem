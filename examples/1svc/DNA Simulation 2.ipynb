{
 "cells": [
  {
   "cell_type": "markdown",
   "metadata": {
    "toc": true
   },
   "source": [
    "<h1>Table of Contents<span class=\"tocSkip\"></span></h1>\n",
    "<div class=\"toc\"><ul class=\"toc-item\"><li><span><a href=\"#Make-Coarse-Grained--model\" data-toc-modified-id=\"Make-Coarse-Grained--model-1\"><span class=\"toc-item-num\">1&nbsp;&nbsp;</span>Make Coarse-Grained  model</a></span><ul class=\"toc-item\"><li><span><a href=\"#Parses-atomistic-pdb\" data-toc-modified-id=\"Parses-atomistic-pdb-1.1\"><span class=\"toc-item-num\">1.1&nbsp;&nbsp;</span>Parses atomistic pdb</a></span></li><li><span><a href=\"#Adds-missing-residues\" data-toc-modified-id=\"Adds-missing-residues-1.2\"><span class=\"toc-item-num\">1.2&nbsp;&nbsp;</span>Adds missing residues</a></span></li><li><span><a href=\"#Converts-fixed-pdb-to-table\" data-toc-modified-id=\"Converts-fixed-pdb-to-table-1.3\"><span class=\"toc-item-num\">1.3&nbsp;&nbsp;</span>Converts fixed pdb to table</a></span></li><li><span><a href=\"#Coarse-Grain-AWSEM\" data-toc-modified-id=\"Coarse-Grain-AWSEM-1.4\"><span class=\"toc-item-num\">1.4&nbsp;&nbsp;</span>Coarse Grain AWSEM</a></span></li><li><span><a href=\"#Merges-AWSEM-and-3SPN2-models\" data-toc-modified-id=\"Merges-AWSEM-and-3SPN2-models-1.5\"><span class=\"toc-item-num\">1.5&nbsp;&nbsp;</span>Merges AWSEM and 3SPN2 models</a></span></li><li><span><a href=\"#Get-the-sequence-of-the-protein\" data-toc-modified-id=\"Get-the-sequence-of-the-protein-1.6\"><span class=\"toc-item-num\">1.6&nbsp;&nbsp;</span>Get the sequence of the protein</a></span></li><li><span><a href=\"#Write-the-merged-PDB\" data-toc-modified-id=\"Write-the-merged-PDB-1.7\"><span class=\"toc-item-num\">1.7&nbsp;&nbsp;</span>Write the merged PDB</a></span></li><li><span><a href=\"#Create-the-system\" data-toc-modified-id=\"Create-the-system-1.8\"><span class=\"toc-item-num\">1.8&nbsp;&nbsp;</span>Create the system</a></span></li><li><span><a href=\"#Add-open3SPN2-forcefield\" data-toc-modified-id=\"Add-open3SPN2-forcefield-1.9\"><span class=\"toc-item-num\">1.9&nbsp;&nbsp;</span>Add open3SPN2 forcefield</a></span></li><li><span><a href=\"#Add-AWSEM-forcefield\" data-toc-modified-id=\"Add-AWSEM-forcefield-1.10\"><span class=\"toc-item-num\">1.10&nbsp;&nbsp;</span>Add AWSEM forcefield</a></span></li></ul></li></ul></div>"
   ]
  },
  {
   "cell_type": "markdown",
   "metadata": {},
   "source": [
    "## Make Coarse-Grained  model"
   ]
  },
  {
   "cell_type": "markdown",
   "metadata": {},
   "source": [
    "### Parses atomistic pdb"
   ]
  },
  {
   "cell_type": "code",
   "execution_count": 1,
   "metadata": {},
   "outputs": [],
   "source": [
    "import pandas\n",
    "import pdbfixer\n",
    "import simtk.openmm.app\n",
    "#Reads pdb file to a table\n",
    "def parsePDB(pdb_file):\n",
    "    \"\"\"Parses a pdb file to a table\"\"\"\n",
    "    def pdb_line(line):\n",
    "        return dict(recname    = str(line[0:6]).strip(),\n",
    "                    serial     = int(line[6:11]),\n",
    "                    name       = str(line[12:16]).strip(),\n",
    "                    altLoc     = str(line[16:17]),\n",
    "                    resname    = str(line[17:20]).strip(),\n",
    "                    chainID    = str(line[21:22]),\n",
    "                    resSeq     = int(line[22:26]),\n",
    "                    iCode      = str(line[26:27]),\n",
    "                    x          = float(line[30:38]),\n",
    "                    y          = float(line[38:46]),\n",
    "                    z          = float(line[46:54]),\n",
    "                    occupancy  = float(line[54:60]),\n",
    "                    tempFactor = float(line[60:66]),\n",
    "                    element    = str(line[76:78]),\n",
    "                    charge     = str(line[78:80]))\n",
    "    with open(pdb_file,'r') as pdb:\n",
    "        lines=[]\n",
    "        for line in pdb:\n",
    "            if len(line)>6 and line[:6] in ['ATOM  ','HETATM']:\n",
    "                lines+=[pdb_line(line)]\n",
    "    pdb_atoms=pandas.DataFrame(lines)\n",
    "    pdb_atoms=pdb_atoms[['recname','serial','name','altLoc',\n",
    "                         'resname','chainID','resSeq','iCode',\n",
    "                         'x','y','z','occupancy','tempFactor',\n",
    "                         'element','charge']]\n",
    "    return pdb_atoms\n",
    "temp=parsePDB('1svc.pdb')"
   ]
  },
  {
   "cell_type": "markdown",
   "metadata": {},
   "source": [
    "### Adds missing residues"
   ]
  },
  {
   "cell_type": "code",
   "execution_count": null,
   "metadata": {},
   "outputs": [],
   "source": [
    "pdb_file='1svc.pdb'\n",
    "#Make coarse_grained atoms\n",
    "import pdbfixer\n",
    "def fix_pdb(pdb_file):\n",
    "    \"\"\"Fixes a pdb file (adds missing atoms)\"\"\"\n",
    "    fixer = pdbfixer.PDBFixer(filename=pdb_file,)\n",
    "    fixer.findMissingResidues()\n",
    "    chains = list(fixer.topology.chains())\n",
    "    keys = fixer.missingResidues.keys()\n",
    "    for key in list(keys):\n",
    "        chain_tmp = chains[key[0]]\n",
    "        if key[1] == 0 or key[1] == len(list(chain_tmp.residues())):\n",
    "            del fixer.missingResidues[key]\n",
    "\n",
    "    fixer.findNonstandardResidues()\n",
    "    fixer.replaceNonstandardResidues()\n",
    "    fixer.removeHeterogens(keepWater=False)\n",
    "    fixer.findMissingAtoms()\n",
    "    fixer.addMissingAtoms()\n",
    "    fixer.addMissingHydrogens(7.0)\n",
    "    return fixer\n",
    "pdb=fix_pdb('1svc.pdb')"
   ]
  },
  {
   "cell_type": "markdown",
   "metadata": {},
   "source": [
    "### Converts fixed pdb to table"
   ]
  },
  {
   "cell_type": "code",
   "execution_count": null,
   "metadata": {},
   "outputs": [],
   "source": [
    "def pdb2table(pdb):\n",
    "    \"\"\" Parses a pdb in the openawsem format and \n",
    "    outputs a table that contains all the information \n",
    "    on a pdb file \"\"\"\n",
    "    cols=['recname','serial','name','altLoc',\n",
    "          'resname','chainID','resSeq','iCode',\n",
    "          'x','y','z','occupancy','tempFactor',\n",
    "          'element','charge']\n",
    "    data = []\n",
    "    for atom,pos in zip(pdb.topology.atoms(),pdb.positions):\n",
    "        residue=atom.residue\n",
    "        chain=residue.chain\n",
    "        pos=pos.value_in_unit(simtk.unit.angstrom)\n",
    "        data += [dict(zip(cols,['ATOM', int(atom.id), atom.name, '',\n",
    "                                residue.name, chain.id, int(residue.id),'',\n",
    "                                pos[0], pos[1], pos[2], 0, 0,\n",
    "                                atom.element.symbol, '']))]\n",
    "    atom_list = pandas.DataFrame(data)\n",
    "    atom_list = atom_list[cols]\n",
    "    atom_list.index = atom_list['serial']\n",
    "    return atom_list\n",
    "pdb_table=pdb2table(pdb)\n"
   ]
  },
  {
   "cell_type": "markdown",
   "metadata": {},
   "source": [
    "### Coarse Grain AWSEM"
   ]
  },
  {
   "cell_type": "code",
   "execution_count": null,
   "metadata": {},
   "outputs": [],
   "source": [
    "def AWSEMCoarseGrained(pdb_table):\n",
    "    \"\"\" Selects AWSEM atoms from a pdb table and returns a table containing only the coarse-grained atoms for AWSEM \"\"\"\n",
    "    protein_residues = ['ALA', 'ARG', 'ASN', 'ASP', 'CYS',\n",
    "                        'GLN', 'GLU', 'GLY', 'HIS', 'ILE',\n",
    "                        'LEU', 'LYS', 'MET', 'PHE', 'PRO',\n",
    "                        'SER', 'THR', 'TRP', 'TYR', 'VAL']\n",
    "    awsem_atoms = [\"N\", \"H\", \"CA\", \"C\", \"O\", \"CB\"]\n",
    "\n",
    "    #Select coarse grained atoms\n",
    "    selection=pdb_table[pdb_table.resname.isin(protein_residues) & pdb_table.name.isin(awsem_atoms)].copy()\n",
    "\n",
    "    #Remove virtual atoms at the end or begining of the chain\n",
    "    drop_list=[]\n",
    "    for chain in selection.chainID.unique():\n",
    "        sel=selection[selection.chainID==chain]\n",
    "        drop_list+=list(sel[(sel.resSeq == sel.resSeq.min()) & sel['name'].isin(['N','H'])].index)\n",
    "        drop_list+=list(sel[(sel.resSeq == sel.resSeq.max()) & sel['name'].isin(['C'])].index)\n",
    "    selection=selection.drop(drop_list)\n",
    "\n",
    "    #Replace resnames\n",
    "    selection['real_resname']=selection.resname.copy()\n",
    "    resname = selection.resname.copy()\n",
    "    resname[:] = 'NGP'\n",
    "    resname[selection.resname=='PRO']='IPR'\n",
    "    resname[selection.resname=='GLY']='IGL'\n",
    "    selection.resname=resname\n",
    "    \n",
    "    #CB element is B\n",
    "    selection.loc[selection['name']=='CB','element']='B'\n",
    "    \n",
    "    #Reorder atoms\n",
    "    selection.name=pandas.Categorical(selection.name,awsem_atoms)\n",
    "    selection.sort_values(['chainID','resSeq','name'])\n",
    "\n",
    "    #Prepare virtual sites\n",
    "    for c,chain in selection.groupby('chainID'):\n",
    "        pos_im = 'First'\n",
    "        for i,residue in chain.groupby('resSeq'):\n",
    "            idx=dict(zip(residue.name,residue.index))\n",
    "            pos=dict(zip(residue.name,[residue.loc[i,['x','y','z']] for i in residue.index]))\n",
    "            if pos_im != 'First':\n",
    "                if 'N' in idx.keys():\n",
    "                    selection.loc[idx['N'],['x','y','z']]=0.48318 * pos_im['CA'] + 0.70328*pos['CA'] - 0.18643 *pos_im['O']\n",
    "                if 'C' in idx.keys():\n",
    "                    selection.loc[idx['C'],['x','y','z']]=0.44365 * pos_im['CA'] + 0.23520*pos['CA'] + 0.32115 *pos_im['O']\n",
    "                if 'H' in idx.keys():\n",
    "                    selection.loc[idx['H'],['x','y','z']]=0.84100 * pos_im['CA'] + 0.89296*pos['CA'] - 0.73389 *pos_im['O']\n",
    "            pos_im=pos.copy()\n",
    "    #Renumber\n",
    "    selection['serial']=range(len(selection))\n",
    "    \n",
    "    return selection\n",
    "awsem_atoms=AWSEMCoarseGrained(pdb_table)\n",
    "#awsem_atoms"
   ]
  },
  {
   "cell_type": "code",
   "execution_count": null,
   "metadata": {},
   "outputs": [],
   "source": [
    "def ff3SPN2CoarseGrained(pdb_table):\n",
    "    \"\"\" Selects DNA atoms from a pdb table and returns a table containing only the coarse-grained atoms for 3SPN2\"\"\"\n",
    "    masses = {\"H\":1.00794, \"C\":12.0107, \"N\":14.0067, \"O\":15.9994, \"P\":30.973762,}\n",
    "    CG = {\"O5\\'\":'P', \"C5\\'\":'S', \"C4\\'\":'S', \"O4\\'\":'S', \"C3\\'\":'S', \"O3\\'\":'P', \n",
    "          \"C2\\'\":'S', \"C1\\'\":'S', \"O5*\":'P', \"C5*\":'S', \"C4*\":'S', \"O4*\":'S', \n",
    "          \"C3*\":'S', \"O3*\":'P', \"C2*\":'S', \"C1*\":'S', \"N1\":'B', \"C2\":'B', \"O2\":'B', \n",
    "          \"N2\":'B', \"N3\":'B', \"C4\":'B', \"N4\":'B', \"C5\":'B', \"C6\":'B', \"N9\":'B', \n",
    "          \"C8\":'B', \"O6\":'B', \"N7\":'B', \"N6\":'B', \"O4\":'B', \"C7\":'B', \"P\":'P', \n",
    "          \"OP1\":'P', \"OP2\":'P', \"O1P\":'P', \"O2P\":'P', \"OP3\":'P', \"HO5'\":'P', \n",
    "          \"H5'\":'S', \"H5''\":'S', \"H4'\":'S', \"H3'\":'S', \"H2'\":'S', \"H2''\":'S', \n",
    "          \"H1'\":'S', \"H8\":'B', \"H61\":'B', \"H62\":'B','H2':'B', 'H1':'B', 'H21':'B', \n",
    "          'H22':'B', 'H3':'B', 'H71':'B', 'H72':'B', 'H73':'B', 'H6':'B', 'H41':'B', \n",
    "          'H42':'B', 'H5':'B', \"HO3'\":'P'}\n",
    "    cols=['recname','serial','name','altLoc',\n",
    "          'resname','chainID','resSeq','iCode',\n",
    "          'x','y','z','occupancy','tempFactor',\n",
    "          'element','charge']\n",
    "    temp=pdb_table.copy()\n",
    "    \n",
    "    #Select DNA residues\n",
    "    temp=temp[temp['resname'].isin(['DA','DT','DG','DC'])]\n",
    "    \n",
    "    #Groupd the atoms by sugar, phosphate or base\n",
    "    temp['group']=temp.name.replace(CG)\n",
    "    temp=temp[temp['group'].isin(['P','S','B'])]\n",
    "    \n",
    "    #Calculate center of mass\n",
    "    temp['mass']=temp.element.replace(masses).astype(float)\n",
    "    temp[['x','y','z']]=(temp[['x','y','z']].T*temp['mass']).T[['x','y','z']]\n",
    "    temp=temp[temp['element']!='H'] #Exclude hydrogens\n",
    "    Coarse=temp.groupby(['chainID','resSeq','resname','group']).sum().reset_index()\n",
    "    Coarse[['x','y','z']]=(Coarse[['x','y','z']].T/Coarse['mass']).T[['x','y','z']]\n",
    "    \n",
    "    #Set pdb columns\n",
    "    Coarse['recname']='ATOM'\n",
    "    Coarse['name']=Coarse['group']\n",
    "    Coarse['altLoc']=''\n",
    "    Coarse['iCode']=''\n",
    "    Coarse['charge']=''\n",
    "    #Change name of base to real base\n",
    "    mask=(Coarse.name=='B')\n",
    "    Coarse.loc[mask,'name']=Coarse[mask].resname.str[-1] #takes last letter from the residue name\n",
    "    #Set element (depends on base)\n",
    "    Coarse['element']=Coarse['name'].replace({'P':'P','S':'H','A':'N','T':'S','G':'C','C':'O'})\n",
    "    #Remove P from the beggining\n",
    "    drop_list=[]\n",
    "    for chain in Coarse.chainID.unique():\n",
    "        sel=Coarse[Coarse.chainID==chain]\n",
    "        drop_list+=list(sel[(sel.resSeq == sel.resSeq.min()) & sel['name'].isin(['P'])].index)\n",
    "    Coarse=Coarse.drop(drop_list)\n",
    "    #Renumber\n",
    "    Coarse['serial']=range(len(Coarse))\n",
    "    return Coarse[cols]\n",
    "dna_atoms=ff3SPN2CoarseGrained(pdb_table)"
   ]
  },
  {
   "cell_type": "markdown",
   "metadata": {},
   "source": [
    "### Merges AWSEM and 3SPN2 models"
   ]
  },
  {
   "cell_type": "code",
   "execution_count": null,
   "metadata": {},
   "outputs": [],
   "source": [
    "#Merge models\n",
    "Coarse=pandas.concat([awsem_atoms,dna_atoms],sort=False)\n",
    "Coarse.index=range(len(Coarse))\n",
    "Coarse.serial=list(Coarse.index)\n",
    "Coarse.tail()"
   ]
  },
  {
   "cell_type": "markdown",
   "metadata": {},
   "source": [
    "### Get the sequence of the protein"
   ]
  },
  {
   "cell_type": "code",
   "execution_count": null,
   "metadata": {},
   "outputs": [],
   "source": [
    "_AWSEMresidues=['IPR','IGL','NGP']\n",
    "protein_data=Coarse[Coarse.resname.isin(_AWSEMresidues)].copy()\n",
    "resix = (protein_data.chainID + '_' + protein_data.resSeq.astype(str))\n",
    "res_unique = resix.unique()\n",
    "protein_data['resID'] = resix.replace(dict(zip(res_unique, range(len(res_unique)))))\n",
    "protein_sequence=[r.iloc[0]['real_resname'] for i, r in protein_data.groupby('resID')]      \n"
   ]
  },
  {
   "cell_type": "markdown",
   "metadata": {},
   "source": [
    "### Write the merged PDB"
   ]
  },
  {
   "cell_type": "code",
   "execution_count": null,
   "metadata": {},
   "outputs": [],
   "source": [
    "def writePDB(atoms,pdb_file):\n",
    "    with open(pdb_file, 'w+') as pdb:\n",
    "        for i, atom in atoms.iterrows():\n",
    "            pdb_line = f'{atom.recname:<6}{atom.serial:>5} {atom[\"name\"]:^4}{atom.altLoc:1}'+\\\n",
    "                       f'{atom.resname:<3} {atom.chainID:1}{atom.resSeq:>4}{atom.iCode:1}   '+\\\n",
    "                       f'{atom.x:>8.3f}{atom.y:>8.3f}{atom.z:>8.3f}' +\\\n",
    "                       f'{atom.occupancy:>6.2f}{atom.occupancy:>6.2f}'+' ' * 10 +\\\n",
    "                       f'{atom.element:>2}{atom.charge:>2}'\n",
    "            assert len(pdb_line) == 80, f'An item in the atom table is longer than expected ({len(pdb_line)})\\n{pdb_line}'\n",
    "            pdb.write(pdb_line + '\\n')\n",
    "writePDB(Coarse,'clean.pdb')\n",
    "#if 'C' in r_im:\n",
    "#    r_im['C'].set_coord(0.44365*r_im['CA'].get_coord()+ 0.23520*r_i['CA'].get_coord()+ 0.32115 *r_im['O'].get_coord())\n",
    "#if 'H' in r_i:\n",
    "#    r_i['H'].set_coord( 0.84100*r_im['CA'].get_coord()+ 0.89296*r_i['CA'].get_coord()- 0.73389 *r_im['O'].get_coord())"
   ]
  },
  {
   "cell_type": "markdown",
   "metadata": {},
   "source": [
    "### Create the system"
   ]
  },
  {
   "cell_type": "code",
   "execution_count": null,
   "metadata": {},
   "outputs": [],
   "source": [
    "import simtk.openmm\n",
    "pdb=simtk.openmm.app.PDBFile('clean.pdb')\n",
    "top=pdb.topology\n",
    "coord=pdb.positions\n",
    "forcefield=simtk.openmm.app.ForceField('awsem.xml','3SPN2.xml')\n",
    "s=forcefield.createSystem(top)\n"
   ]
  },
  {
   "cell_type": "code",
   "execution_count": null,
   "metadata": {},
   "outputs": [],
   "source": [
    "import numpy as np\n",
    "size=2*200*simtk.openmm.unit.nanometer\n",
    "centered=np.array(coord)-np.array(coord).mean(axis=0)+np.array(size/2)\n",
    "s.setDefaultPeriodicBoxVectors(*np.diag([size]*3))"
   ]
  },
  {
   "cell_type": "markdown",
   "metadata": {},
   "source": [
    "### Add open3SPN2 forcefield"
   ]
  },
  {
   "cell_type": "code",
   "execution_count": null,
   "metadata": {},
   "outputs": [],
   "source": [
    "import sys\n",
    "sys.path.insert(0, '../../../open3SPN2')\n",
    "import ff3SPN2\n",
    "import importlib\n",
    "importlib.reload(ff3SPN2)"
   ]
  },
  {
   "cell_type": "code",
   "execution_count": null,
   "metadata": {},
   "outputs": [],
   "source": [
    "dna=ff3SPN2.DNA.fromCoarsePDB('clean.pdb')"
   ]
  },
  {
   "cell_type": "code",
   "execution_count": null,
   "metadata": {},
   "outputs": [],
   "source": [
    "import simtk.openmm.app\n",
    "import simtk.openmm\n",
    "import simtk.unit as unit\n",
    "import configparser\n",
    "import numpy as np\n",
    "import itertools\n",
    "import scipy.spatial.distance as sdist\n",
    "import os\n",
    "\n",
    "class O(object):\n",
    "    pass\n",
    "self=O()"
   ]
  },
  {
   "cell_type": "markdown",
   "metadata": {},
   "source": [
    "### Add AWSEM forcefield"
   ]
  },
  {
   "cell_type": "code",
   "execution_count": null,
   "metadata": {},
   "outputs": [],
   "source": [
    "sys.path.insert(0, '../../')"
   ]
  },
  {
   "cell_type": "code",
   "execution_count": null,
   "metadata": {},
   "outputs": [],
   "source": [
    "#import functionTerms.basicTerms as bt"
   ]
  },
  {
   "cell_type": "code",
   "execution_count": null,
   "metadata": {},
   "outputs": [],
   "source": [
    "import ffAWSEM\n",
    "importlib.reload(ffAWSEM)\n",
    "from Bio.PDB.Polypeptide import three_to_one\n",
    "protein_sequence_one = [three_to_one(a) for a in protein_sequence]\n",
    "protein=ffAWSEM.Protein.fromCoarsePDB('clean.pdb',sequence=protein_sequence_one)"
   ]
  },
  {
   "cell_type": "markdown",
   "metadata": {},
   "source": [
    "###Extra steps taken\n",
    "- Create ssweight\n",
    "- Copy parameters"
   ]
  },
  {
   "cell_type": "code",
   "execution_count": null,
   "metadata": {},
   "outputs": [],
   "source": [
    "import functionTerms\n",
    "importlib.reload(functionTerms)\n",
    "dir(functionTerms)"
   ]
  },
  {
   "cell_type": "code",
   "execution_count": null,
   "metadata": {},
   "outputs": [],
   "source": [
    "import sys\n",
    "sys.path.insert(0, '../../../open3SPN2')\n",
    "import ff3SPN2\n",
    "import importlib\n",
    "importlib.reload(ff3SPN2)\n",
    "dna=ff3SPN2.DNA.fromCoarsePDB('clean.pdb')\n",
    "keepCMMotionRemover=True\n",
    "#Clear Forces\n",
    "j=0\n",
    "for i, f in enumerate(s.getForces()):\n",
    "    if keepCMMotionRemover and i == 0 and f.__class__ == simtk.openmm.CMMotionRemover:\n",
    "        # print('Kept ', f.__class__)\n",
    "        j += 1\n",
    "        continue\n",
    "    else:\n",
    "        # print('Removed ', f.__class__)\n",
    "        s.removeForce(j)\n",
    "if keepCMMotionRemover == False:\n",
    "    assert len(s.getForces()) == 0, 'Not all the forces were removed'\n",
    "else:\n",
    "    assert len(s.getForces()) <= 1, 'Not all the forces were removed'\n",
    "\n",
    "\n",
    "#Add 3SPN2 forces\n",
    "forces = dict(Bond=ff3SPN2.Bond3SPN2,\n",
    "              Angle=ff3SPN2.Angle3SPN2,\n",
    "              Stacking=ff3SPN2.Stacking3SPN2,\n",
    "              Dihedral=ff3SPN2.Dihedral3SPN2,\n",
    "              BasePair=ff3SPN2.BasePair3SPN2,\n",
    "              CrossStacking=ff3SPN2.CrossStacking3SPN2,\n",
    "              Exclusion=ff3SPN2.Exclusion3SPN2,\n",
    "              Electrostatics=ff3SPN2.Electrostatics3SPN2\n",
    "             )\n",
    "for force_name in forces:\n",
    "    if False:\n",
    "        continue\n",
    "    print(force_name)\n",
    "    force = forces[force_name](dna)\n",
    "    if force_name in ['Exclusion','Electrostatics']:\n",
    "        pass\n",
    "        #ffAWSEM.addNonBondedExclusions(protein,force)    \n",
    "    if force_name in ['BasePair','CrossStacking']:\n",
    "        force.addForce(s)\n",
    "    else:\n",
    "        s.addForce(force)\n",
    "        \n",
    "#Add AWSEM forces\n",
    "forces = dict(Connectivity=functionTerms.basicTerms.con_term,\n",
    "              Chain=functionTerms.basicTerms.chain_term,\n",
    "              Chi=functionTerms.basicTerms.chi_term,\n",
    "              Excl=functionTerms.basicTerms.excl_term,\n",
    "              rama=functionTerms.basicTerms.rama_term,\n",
    "              rama_pro=functionTerms.basicTerms.rama_proline_term,\n",
    "              rama_ss=functionTerms.basicTerms.rama_ssweight_term,\n",
    "              contact=functionTerms.contactTerms.contact_term,\n",
    "              beta1 = functionTerms.hydrogenBondTerms.beta_term_1,\n",
    "              beta2 = functionTerms.hydrogenBondTerms.beta_term_2,\n",
    "              beta3 = functionTerms.hydrogenBondTerms.beta_term_3,\n",
    "              pap1 = functionTerms.hydrogenBondTerms.pap_term_1,\n",
    "              pap2 = functionTerms.hydrogenBondTerms.pap_term_2,\n",
    "             )\n",
    "protein.setup_virtual_sites(s)\n",
    "for force_name in forces:\n",
    "    print(force_name)\n",
    "    force = forces[force_name](protein)\n",
    "    if force_name in ['contact']:\n",
    "        pass\n",
    "        ff3SPN2.addNonBondedExclusions(dna,force)        \n",
    "    s.addForce(force)\n"
   ]
  },
  {
   "cell_type": "code",
   "execution_count": null,
   "metadata": {},
   "outputs": [],
   "source": [
    "temperature=300 * simtk.openmm.unit.kelvin\n",
    "platform_name='OpenCL'\n",
    "\n",
    "integrator = simtk.openmm.LangevinIntegrator(temperature, 1E-4 / simtk.openmm.unit.picosecond, 2 * simtk.openmm.unit.femtoseconds)\n",
    "platform = simtk.openmm.Platform.getPlatformByName(platform_name)\n",
    "simulation = simtk.openmm.app.Simulation(top,s, integrator,\n",
    "                                              platform)\n",
    "simulation.context.setPositions(centered)\n",
    "energy_unit=simtk.openmm.unit.kilojoule_per_mole\n",
    "state = simulation.context.getState(getEnergy=True)\n",
    "energy = state.getPotentialEnergy().value_in_unit(energy_unit)\n",
    "print(energy)\n",
    "simulation.reporters.append(simtk.openmm.app.PDBReporter(f'output.pdb', 1000),)\n",
    "simulation.reporters.append(simtk.openmm.app.DCDReporter(f'output.dcd', 1000),)\n",
    "#sim_out=open('sim_out.txt','w+')\n",
    "simulation.reporters.append(simtk.openmm.app.StateDataReporter(sys.stdout, 1000, step=True,time=True,potentialEnergy=True, temperature=True,separator='\\t',))\n",
    "simulation.reporters.append(simtk.openmm.app.StateDataReporter('sim.log', 1000, step=True,time=True,totalEnergy=True,\n",
    "                                              kineticEnergy=True,potentialEnergy=True, temperature=True))\n",
    "\n",
    "simulation.minimizeEnergy()\n",
    "simulation.context.setVelocitiesToTemperature(temperature)\n",
    "simulation.step(100000)"
   ]
  },
  {
   "cell_type": "code",
   "execution_count": null,
   "metadata": {},
   "outputs": [],
   "source": [
    "force.CutoffNonPeriodic"
   ]
  },
  {
   "cell_type": "code",
   "execution_count": null,
   "metadata": {},
   "outputs": [],
   "source": [
    "temperature=300 * simtk.openmm.unit.kelvin\n",
    "platform_name='Reference'\n",
    "\n",
    "integrator = simtk.openmm.LangevinIntegrator(temperature, 1E-4 / simtk.openmm.unit.picosecond, 2 * simtk.openmm.unit.femtoseconds)\n",
    "platform = simtk.openmm.Platform.getPlatformByName(platform_name)\n",
    "simulation = simtk.openmm.app.Simulation(top,s, integrator,\n",
    "                                              platform)\n",
    "simulation.context.setPositions(centered)\n",
    "energy_unit=simtk.openmm.unit.kilojoule_per_mole\n",
    "state = simulation.context.getState(getEnergy=True)\n",
    "energy = state.getPotentialEnergy().value_in_unit(energy_unit)\n",
    "print(energy)\n",
    "simulation.reporters.append(simtk.openmm.app.PDBReporter(f'output.pdb', 1000),)\n",
    "simulation.reporters.append(simtk.openmm.app.DCDReporter(f'output.dcd', 1000),)\n",
    "#sim_out=open('sim_out.txt','w+')\n",
    "simulation.reporters.append(simtk.openmm.app.StateDataReporter(sys.stdout, 1000, step=True,time=True,potentialEnergy=True, temperature=True,separator='\\t',))\n",
    "simulation.reporters.append(simtk.openmm.app.StateDataReporter('sim.log', 1000, step=True,time=True,totalEnergy=True,\n",
    "                                              kineticEnergy=True,potentialEnergy=True, temperature=True))\n",
    "\n",
    "simulation.minimizeEnergy()\n",
    "simulation.context.setVelocitiesToTemperature(temperature)\n",
    "simulation.step(100000)"
   ]
  },
  {
   "cell_type": "code",
   "execution_count": null,
   "metadata": {},
   "outputs": [],
   "source": []
  }
 ],
 "metadata": {
  "kernelspec": {
   "display_name": "Python 3",
   "language": "python",
   "name": "python3"
  },
  "language_info": {
   "codemirror_mode": {
    "name": "ipython",
    "version": 3
   },
   "file_extension": ".py",
   "mimetype": "text/x-python",
   "name": "python",
   "nbconvert_exporter": "python",
   "pygments_lexer": "ipython3",
   "version": "3.6.6"
  },
  "toc": {
   "base_numbering": 1,
   "nav_menu": {},
   "number_sections": true,
   "sideBar": true,
   "skip_h1_title": true,
   "title_cell": "Table of Contents",
   "title_sidebar": "Contents",
   "toc_cell": true,
   "toc_position": {
    "height": "calc(100% - 180px)",
    "left": "10px",
    "top": "150px",
    "width": "185.594px"
   },
   "toc_section_display": true,
   "toc_window_display": true
  }
 },
 "nbformat": 4,
 "nbformat_minor": 2
}
